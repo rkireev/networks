{
 "cells": [
  {
   "cell_type": "code",
   "execution_count": 46,
   "metadata": {
    "collapsed": false
   },
   "outputs": [],
   "source": [
    "import json\n",
    "import urllib2\n",
    "import time\n",
    "import networkx as nx\n",
    "import matplotlib.pyplot as plt\n",
    "\n",
    "G=nx.Graph()\n",
    "ids = set()\n",
    "\n",
    "#ids.add(28585277)\n",
    "friends_request = 'https://api.vk.com/method/friends.get?user_id=28585277'\n",
    "data = json.load(urllib2.urlopen(friends_request))\n",
    "for x in data['response']:\n",
    "    ids.add(x)\n",
    "for x in data['response']:\n",
    "    data1 = json.load(urllib2.urlopen('https://api.vk.com/method/friends.get?user_id='+str(x)))\n",
    "    time.sleep(1)\n",
    "    try:\n",
    "        common = set(data1['response']).intersection(ids)\n",
    "        for y in common:\n",
    "            G.add_edge(x,y)\n",
    "            with open('friends.txt', 'a') as f:\n",
    "                f.write(str(x)+' '+str(y)+'\\n')\n",
    "    except:\n",
    "        pass"
   ]
  },
  {
   "cell_type": "code",
   "execution_count": 47,
   "metadata": {
    "collapsed": false,
    "scrolled": true
   },
   "outputs": [],
   "source": [
    "token = '6388ee8a65fc9ef610df6e010aab8fa1fbd2f372e94b676b591626cbecaf692104415fafa2feb29313bca'\n",
    "uni = {}\n",
    "dcity = {}\n",
    "has_university = []\n",
    "has_city = []\n",
    "for node in G.nodes():\n",
    "    request = 'https://api.vk.com/method/users.get?user_id='+str(node)+'&fields=education,city&access_token='+token\n",
    "    city = 0\n",
    "    code = 0\n",
    "    try:\n",
    "        data = json.load(urllib2.urlopen(request))\n",
    "        code = data['response'][0][u'university']\n",
    "        city = data['response'][0][u'city']\n",
    "    except:\n",
    "        code = 0\n",
    "        city = 0\n",
    "    uni[node] = code\n",
    "    dcity[node] = city\n",
    "    if code:\n",
    "        has_university.append(node)\n",
    "    if city:\n",
    "        has_city.append(node)\n",
    "    time.sleep(0.4)\n",
    "nx.set_node_attributes(G, 'university', uni)\n",
    "nx.set_node_attributes(G, 'city', dcity)"
   ]
  },
  {
   "cell_type": "code",
   "execution_count": 48,
   "metadata": {
    "collapsed": false,
    "scrolled": true
   },
   "outputs": [],
   "source": [
    "nx.set_node_attributes(G, 'degree_centrality', nx.degree_centrality(G))"
   ]
  },
  {
   "cell_type": "code",
   "execution_count": 49,
   "metadata": {
    "collapsed": false
   },
   "outputs": [
    {
     "data": {
      "text/plain": [
       "0.20526249285077763"
      ]
     },
     "execution_count": 49,
     "metadata": {},
     "output_type": "execute_result"
    }
   ],
   "source": [
    "nx.attribute_assortativity_coefficient(G,'university',has_university)"
   ]
  },
  {
   "cell_type": "code",
   "execution_count": 50,
   "metadata": {
    "collapsed": false
   },
   "outputs": [
    {
     "data": {
      "text/plain": [
       "0.11829128584913325"
      ]
     },
     "execution_count": 50,
     "metadata": {},
     "output_type": "execute_result"
    }
   ],
   "source": [
    "nx.attribute_assortativity_coefficient(G,'city',has_city)"
   ]
  },
  {
   "cell_type": "markdown",
   "metadata": {},
   "source": [
    "Similarity mesures:"
   ]
  },
  {
   "cell_type": "code",
   "execution_count": 89,
   "metadata": {
    "collapsed": false,
    "scrolled": true
   },
   "outputs": [],
   "source": [
    "import numpy as np\n",
    "jaccard = np.zeros((G.number_of_nodes(), G.number_of_nodes()))\n",
    "mapping = {}\n",
    "count = 0\n",
    "for x in G.nodes():\n",
    "    mapping[x]=count\n",
    "    count+=1\n",
    "for x in G.nodes():\n",
    "    for y in G.nodes():\n",
    "        a = len(set(G.neighbors(x)).intersection(set(G.neighbors(y))))\n",
    "        b = len(set(G.neighbors(x)).union(set(G.neighbors(y))))\n",
    "        jaccard[mapping[x],mapping[y]] = 1.0*a/b\n",
    "        if (x,y) in G.edges():\n",
    "            G[x][y]['jaccard'] = 1.0*a/b\n",
    "\n",
    "cosine = np.zeros((G.number_of_nodes(), G.number_of_nodes()))\n",
    "for x in G.nodes():\n",
    "    for y in G.nodes():\n",
    "        a = len(set(G.neighbors(x)).intersection(set(G.neighbors(y))))\n",
    "        b = G.degree(x)\n",
    "        c = G.degree(y)\n",
    "        cosine[mapping[x],mapping[y]] = 1.0*a/pow(b*c,0.5)\n",
    "        if (x,y) in G.edges():\n",
    "            G[x][y]['cosine'] = 1.0*a/pow(b*c,0.5)"
   ]
  },
  {
   "cell_type": "code",
   "execution_count": 94,
   "metadata": {
    "collapsed": false
   },
   "outputs": [],
   "source": [
    "plt.matshow(cosine)\n",
    "plt.colorbar()\n",
    "plt.show()"
   ]
  },
  {
   "cell_type": "markdown",
   "metadata": {},
   "source": [
    "Multilevel recursive partitioning algorithm with modularity thresholding (from homework):"
   ]
  },
  {
   "cell_type": "code",
   "execution_count": 56,
   "metadata": {
    "collapsed": false
   },
   "outputs": [],
   "source": [
    "import scipy.io\n",
    "import scipy.sparse as ss\n",
    "\n",
    "clusters = []\n",
    "\n",
    "def modularity1(H, c1, c2):\n",
    "    edges = H.edges()\n",
    "    nodes = H.nodes()\n",
    "    m = H.number_of_edges()\n",
    "    Q = 0\n",
    "    for a in nodes:\n",
    "        for b in nodes:\n",
    "            x=0\n",
    "            if (a,b) in edges:\n",
    "                x=1\n",
    "            d = 0\n",
    "            if ((a in c1) and (b in c1)) or ((a in c2) and (b in c2)):\n",
    "                d = 1\n",
    "            Q += (x-H.degree(a)*H.degree(b)/(2.0*m))*d\n",
    "    return Q/(2*m)\n",
    "\n",
    "def spectral(c, threshold):\n",
    "    H = G.subgraph(c)\n",
    "    mapping = {}\n",
    "    count = 0\n",
    "    for x in H.nodes():\n",
    "        mapping[count]=x\n",
    "        count+=1\n",
    "    \n",
    "    A = nx.adjacency_matrix(H).asfptype()\n",
    "    L = nx.laplacian_matrix(H).asfptype()\n",
    "    D = L + A\n",
    "    w, v = ss.linalg.eigsh(L, k=2,  M = D, which = 'SM')\n",
    "    c1 = []\n",
    "    c2 = []\n",
    "    for i in range(len(v[:, 1])):\n",
    "        if v[i, 1]>0:\n",
    "            c1.append(mapping[i])\n",
    "        else:\n",
    "            c2.append(mapping[i])\n",
    "    if modularity1(H,c1,c2)>threshold:\n",
    "        for i in range(len(clusters)):\n",
    "            if set(c1) in set(clusters[i]):\n",
    "                del clusters[i]\n",
    "                break\n",
    "        clusters.append(c1)\n",
    "        for i in range(len(clusters)):\n",
    "            if set(c2) in set(clusters[i]):\n",
    "                del clusters[i]\n",
    "                break\n",
    "        clusters.append(c2)\n",
    "        return 0\n",
    "    spectral(c1,threshold)\n",
    "    spectral(c2,threshold)"
   ]
  },
  {
   "cell_type": "code",
   "execution_count": 57,
   "metadata": {
    "collapsed": false
   },
   "outputs": [
    {
     "data": {
      "text/plain": [
       "0.39194564378914115"
      ]
     },
     "execution_count": 57,
     "metadata": {},
     "output_type": "execute_result"
    }
   ],
   "source": [
    "spectral(G.nodes(),-0.2)\n",
    "spec_clust = {}\n",
    "for i in range(len(clusters)):\n",
    "    for node in clusters[i]:\n",
    "        spec_clust[node] = i\n",
    "nx.set_node_attributes(G, 'spectral', spec_clust)\n",
    "import community\n",
    "community.modularity(spec_clust, G)"
   ]
  },
  {
   "cell_type": "markdown",
   "metadata": {},
   "source": [
    "Louvain algorithm (community module):"
   ]
  },
  {
   "cell_type": "code",
   "execution_count": 58,
   "metadata": {
    "collapsed": false
   },
   "outputs": [
    {
     "data": {
      "text/plain": [
       "0.40617631037294033"
      ]
     },
     "execution_count": 58,
     "metadata": {},
     "output_type": "execute_result"
    }
   ],
   "source": [
    "partition = community.best_partition(G)\n",
    "nx.set_node_attributes(G, 'louvain', partition)\n",
    "community.modularity(partition, G)"
   ]
  },
  {
   "cell_type": "markdown",
   "metadata": {},
   "source": [
    "Core and cliques:"
   ]
  },
  {
   "cell_type": "code",
   "execution_count": 59,
   "metadata": {
    "collapsed": false
   },
   "outputs": [],
   "source": [
    "H = nx.k_core(G)\n",
    "main_core = {}\n",
    "for node in G.nodes():\n",
    "    main_core[node] = 0\n",
    "    if node in H.nodes():\n",
    "        main_core[node] = 1\n",
    "nx.set_node_attributes(G, 'core', main_core)"
   ]
  },
  {
   "cell_type": "code",
   "execution_count": 95,
   "metadata": {
    "collapsed": false
   },
   "outputs": [
    {
     "name": "stdout",
     "output_type": "stream",
     "text": [
      "142\n",
      "1\n",
      "1\n",
      "1\n",
      "1\n",
      "1\n",
      "1\n",
      "1\n",
      "1\n"
     ]
    }
   ],
   "source": [
    "max_clique={}\n",
    "all_cliques = list(nx.find_cliques(G))\n",
    "print len(all_cliques)\n",
    "for y in all_cliques:\n",
    "        if len(y)==14:\n",
    "            print '1'\n",
    "max_union = 0\n",
    "a = []\n",
    "b = []\n",
    "for x in all_cliques:\n",
    "    for y in all_cliques:\n",
    "        if len(x)==14 and len(y)==14:\n",
    "            if len(set(x).union(set(y)))>max_union:\n",
    "                max_union = len(set(x).union(set(y)))\n",
    "                a = x\n",
    "                b = y\n",
    "for node in G.nodes():\n",
    "    max_clique[node] = 0\n",
    "    if node in a:\n",
    "        max_clique[node] = 1\n",
    "    if node in b:\n",
    "        max_clique[node] = 2\n",
    "    if (node in b) and (node in a):\n",
    "        max_clique[node] = 3 \n",
    "nx.set_node_attributes(G, 'clique', max_clique)"
   ]
  },
  {
   "cell_type": "code",
   "execution_count": 92,
   "metadata": {
    "collapsed": false
   },
   "outputs": [],
   "source": [
    "nx.write_gexf(G, \"mynetwork.gexf\")"
   ]
  },
  {
   "cell_type": "code",
   "execution_count": null,
   "metadata": {
    "collapsed": true
   },
   "outputs": [],
   "source": []
  }
 ],
 "metadata": {
  "kernelspec": {
   "display_name": "Python 2",
   "language": "python",
   "name": "python2"
  },
  "language_info": {
   "codemirror_mode": {
    "name": "ipython",
    "version": 2
   },
   "file_extension": ".py",
   "mimetype": "text/x-python",
   "name": "python",
   "nbconvert_exporter": "python",
   "pygments_lexer": "ipython2",
   "version": "2.7.11"
  }
 },
 "nbformat": 4,
 "nbformat_minor": 0
}
