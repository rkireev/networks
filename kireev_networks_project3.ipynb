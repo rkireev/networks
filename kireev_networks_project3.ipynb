{
 "cells": [
  {
   "cell_type": "markdown",
   "metadata": {},
   "source": [
    "# <center>Network Science</center>"
   ]
  },
  {
   "cell_type": "markdown",
   "metadata": {},
   "source": [
    "## <center/>Course Project #3"
   ]
  },
  {
   "cell_type": "markdown",
   "metadata": {},
   "source": [
    "### <center>Student: Kireev Ruslan</center>"
   ]
  },
  {
   "cell_type": "markdown",
   "metadata": {},
   "source": [
    "#### <hr /> General Information"
   ]
  },
  {
   "cell_type": "markdown",
   "metadata": {},
   "source": [
    "**Hard Deadline:** 17.06.2015 23:59 <br \\>\n",
    "\n",
    "Please send your reports to <mailto:network.hse.2016@gmail.com> with message subject of the following structure:<br \\> **[HSE Networks 2016] *{LastName}* *{First Name}* Project*{Number}***\n",
    "\n",
    "Support your computations with figures and comments. <br \\>\n",
    "If you are using IPython Notebook you may use this file as a starting point of your report.<br \\>\n",
    "<br \\>\n",
    "<hr \\>"
   ]
  },
  {
   "cell_type": "markdown",
   "metadata": {},
   "source": [
    "# Description"
   ]
  },
  {
   "cell_type": "markdown",
   "metadata": {},
   "source": [
    "## Task 1 "
   ]
  },
  {
   "cell_type": "markdown",
   "metadata": {},
   "source": [
    "You are provided with the [DBLP dataset](https://www.hse.ru/data/2016/05/17/1128901387/dblp.zip) or [HSE Dataset](https://drive.google.com/folderview?id=0BwBztFAl6eLOdGRhbW5DWElQY3c&usp=sharing) (warning, raw data!). It contains coauthorships that were revealed during $2000$-$2014$. Particularly, the file contains $3$ colomns: first two for authors' names and the third for the year of publication. This data can be naturally mapped to undirected graph structure.\n",
    "\n",
    "Your task is construct supervised link prediction scheme."
   ]
  },
  {
   "cell_type": "markdown",
   "metadata": {},
   "source": [
    "### Guidelines:"
   ]
  },
  {
   "cell_type": "markdown",
   "metadata": {},
   "source": [
    "0. Use *pandas* module to load and manipulate the dataset in Python\n",
    "1. Initiallize your classification set as follows:\n",
    "    * Determine training and testing intervals on your time domain (for instance, in DBLP dataset take a period $2000$-$2010$ as training period and $2011$-$2014$ as testing period)\n",
    "    * Pick pairs of authors that **have appeared during training interval** but **have not published together** (only for DBLP) during it\n",
    "    * These pairs form **positive** or **negative** examples depending on whether they have formed coauthorships **during the testing interval**\n",
    "    * You have arrived to binary classification problem. PROFIT!\n",
    "2. Construct feature space:\n",
    "    * Most of our features tend to be topological. Examples of the features can be: (weighted) sum of neigbours, shortest distance, etc\n",
    "3. Choose at least $4$ classification algorithms from [scikit module](http://scikit-learn.org/stable/) (goes with Anaconda) and compare them in terms of Accuracy, Precision, Recall, F-Score (for positive class) and Mean Squared Error. Use k-fold cross-validation and average your results"
   ]
  },
  {
   "cell_type": "code",
   "execution_count": 1,
   "metadata": {
    "collapsed": true
   },
   "outputs": [],
   "source": [
    "import pandas as pd\n",
    "import networkx as nx\n",
    "import numpy as np\n",
    "import matplotlib.pyplot as plt\n",
    "import gc\n",
    "%matplotlib inline"
   ]
  },
  {
   "cell_type": "code",
   "execution_count": 9,
   "metadata": {
    "collapsed": false
   },
   "outputs": [
    {
     "name": "stdout",
     "output_type": "stream",
     "text": [
      "3940951 5655908\n"
     ]
    }
   ],
   "source": [
    "df = pd.read_csv('dblp_2000.csv', header=None)\n",
    "df.columns = ['author1', 'author2', 'year']\n",
    "df_train = df.loc[df['year'].isin(range(2000, 2009))] # 3940951 edges\n",
    "df_test = df.loc[df['year'].isin(range(2009, 2015))] # 5655908 edges\n",
    "print len(df_train), len(df_test)\n",
    "del df_train['year']\n",
    "del df_test['year']\n",
    "authors = pd.concat([df_train['author1'], df_train['author2']]).unique() #  authors that have appeared during training interval\n",
    "df_test_pairs = df_test.loc[df_test['author1'].isin(authors)].loc[df_test['author2'].isin(authors)] # we consider only \"old\" \n",
    "                                                                                                    # authors in the test interval"
   ]
  },
  {
   "cell_type": "code",
   "execution_count": 12,
   "metadata": {
    "collapsed": false
   },
   "outputs": [],
   "source": [
    "# we want to drop all occurances of training edges in the test set\n",
    "a1 = df_test_pairs['author1']  # since in the dataset there can appear both (a1, a2) and (a2, a1)\n",
    "a2 = df_test_pairs['author2']  # we construct the new df, where all edges are reversed\n",
    "df_test_pairs_swap = pd.DataFrame({'author1' : [], 'author2' : []})\n",
    "df_test_pairs_swap['author1'] = a2\n",
    "df_test_pairs_swap['author2'] = a1\n",
    "df_intersection1 = pd.merge(df_test_pairs, df_train, how='inner', on=['author1', 'author2']).drop_duplicates()\n",
    "df_intersection2 = pd.merge(df_test_pairs_swap, df_train, how='inner', on=['author1', 'author2']).drop_duplicates()\n",
    "df_intersection = pd.concat([df_intersection1, df_intersection2])\n",
    "set_intersection = set([])\n",
    "for row in df_intersection.iterrows():\n",
    "    set_intersection.add((row[1][0], row[1][1]))\n",
    "idxs = []\n",
    "for row in df_test_pairs.iterrows(): # find all occurances of training edges\n",
    "    if ((row[1][0], row[1][1]) in set_intersection) or ((row[1][1], row[1][0]) in set_intersection): # double check!\n",
    "        idxs.append(row[0])\n",
    "df_pos = df_test_pairs.drop(idxs) # and drop them and now we have our positive examples"
   ]
  },
  {
   "cell_type": "markdown",
   "metadata": {
    "collapsed": false
   },
   "source": [
    "So, now we have to construct our negative examples. Since there are to many such pairs (about 2.3*10^11), it will cost too much time to consider all of them. Therefore, we randomly pick len(df_pos) among them. At least, it seems reasonable."
   ]
  },
  {
   "cell_type": "code",
   "execution_count": 13,
   "metadata": {
    "collapsed": false
   },
   "outputs": [
    {
     "data": {
      "text/plain": [
       "224749336427.0"
      ]
     },
     "execution_count": 13,
     "metadata": {},
     "output_type": "execute_result"
    }
   ],
   "source": [
    "(len(authors)*(len(authors)-1))/2.0-len(df_train)"
   ]
  },
  {
   "cell_type": "code",
   "execution_count": 14,
   "metadata": {
    "collapsed": false
   },
   "outputs": [],
   "source": [
    "df_dd = df.drop_duplicates() \n",
    "set_dd = set([]) # is what won't appear in negative examples. also we don't want, if there is pos&neg!=empty\n",
    "for row in df_dd.iterrows():\n",
    "    set_dd.add((row[1][0], row[1][1]))"
   ]
  },
  {
   "cell_type": "code",
   "execution_count": 16,
   "metadata": {
    "collapsed": false
   },
   "outputs": [
    {
     "data": {
      "text/plain": [
       "0"
      ]
     },
     "execution_count": 16,
     "metadata": {},
     "output_type": "execute_result"
    }
   ],
   "source": [
    "d_neg = {'author1':[], 'author2':[]}\n",
    "count = 0\n",
    "l = len(authors) - 1\n",
    "n = len(df_pos) # there will be about len(df_pos) negative examples\n",
    "while(count < n): \n",
    "    r = [0]*2\n",
    "    while r[0] == r[1]:\n",
    "        r = np.random.random_integers(0, l, 2)\n",
    "    a0 = authors[r[0]]\n",
    "    a1 = authors[r[1]]\n",
    "    rand_pair1 = (a0, a1)\n",
    "    rand_pair2 = (a1, a0)\n",
    "    if not((rand_pair1 in set_dd) and (rand_pair2 in set_dd)): # (a1, a2) <=> (a2, a1)\n",
    "        d_neg['author1'].append(a0)\n",
    "        d_neg['author2'].append(a1)\n",
    "        count += 1\n",
    "gc.collect()"
   ]
  },
  {
   "cell_type": "code",
   "execution_count": 21,
   "metadata": {
    "collapsed": false
   },
   "outputs": [],
   "source": [
    "df_neg = pd.DataFrame.from_dict(d_neg).drop_duplicates()\n",
    "df_neg['label'] = pd.Series([-1]*len(df_neg), index=df_neg.index)\n",
    "df_pos['label'] = pd.Series([1]*len(df_pos), index=df_pos.index)\n",
    "df_posneg = pd.concat([df_pos, df_neg]) # here is our labeled sample"
   ]
  },
  {
   "cell_type": "code",
   "execution_count": null,
   "metadata": {
    "collapsed": false
   },
   "outputs": [],
   "source": []
  },
  {
   "cell_type": "code",
   "execution_count": 16,
   "metadata": {
    "collapsed": false
   },
   "outputs": [
    {
     "data": {
      "text/plain": [
       "281"
      ]
     },
     "execution_count": 16,
     "metadata": {},
     "output_type": "execute_result"
    }
   ],
   "source": [
    "# maybe it will help to free my RAM a bit, idk\n",
    "del df_intersection\n",
    "del set_intersection\n",
    "del idxs\n",
    "del d_neg\n",
    "del set_dd\n",
    "del df_dd\n",
    "gc.collect()"
   ]
  },
  {
   "cell_type": "code",
   "execution_count": 33,
   "metadata": {
    "collapsed": false
   },
   "outputs": [
    {
     "data": {
      "text/plain": [
       "<networkx.classes.graph.Graph at 0x7f6aefd0>"
      ]
     },
     "execution_count": 33,
     "metadata": {},
     "output_type": "execute_result"
    }
   ],
   "source": [
    "# to be able to predict something we have to know what properties had the edges in the training interval\n",
    "# to calculate everything we put the train set in a graph \n",
    "# (multigraph is more appropriate since there are multiedges, but I couldn't do that, probably, due to some hardware capabilities)\n",
    "G = nx.Graph()\n",
    "nx.from_pandas_dataframe(df_train, 'author1', 'author2', create_using=G)"
   ]
  },
  {
   "cell_type": "markdown",
   "metadata": {},
   "source": [
    "Basically, I followed the articles [\"Link Prediction using Supervised Learning\"](http://www.siam.org/meetings/sdm06/workproceed/Link%20Analysis/12.pdf) and [\"Feature Engineering for Supervised Link Prediction on Dynamic Social Networks\"](http://worldcomp-proceedings.com/proc/p2014/DMI8018.pdf)\n",
    "To be hosest, we pick from a wide variety of feature those, which are easy and quick to compute: Number of common neighbors, Jaccard’s coefficient, Adamic/Adar, Shortest path, Preferential attachment, Clustering coefficient."
   ]
  },
  {
   "cell_type": "code",
   "execution_count": 40,
   "metadata": {
    "collapsed": false,
    "scrolled": true
   },
   "outputs": [],
   "source": [
    "shortest_paths = []\n",
    "common_neighbor = []\n",
    "jaccard_coef = []\n",
    "preferential_attachment = []\n",
    "clustering_coef_u = []\n",
    "clustering_coef_v = []\n",
    "adar = []\n",
    "for row in df_posneg.iterrows(): # for each example in pos+neg  \n",
    "    try:\n",
    "        shortest_paths.append(nx.shortest_path_length(G,source=row[1][0],target=row[1][1]))\n",
    "    except:\n",
    "        shortest_paths.append(10000) # 10000 = infinity\n",
    "    N1 = set(G.neighbors(row[1][0]))\n",
    "    N2 = set(G.neighbors(row[1][1]))\n",
    "    common_neighbor.append(len(N1 & N2))\n",
    "    jaccard_coef.append(1.0*len(N1 & N2)/len(N1 | N2))\n",
    "    preferential_attachment.append(len(N1)*len(N2))\n",
    "    clustering_coef_u.append(nx.clustering(G,row[1][0]))\n",
    "    clustering_coef_v.append(nx.clustering(G,row[1][1]))\n",
    "    aa = 0\n",
    "    for node in N1 & N2:\n",
    "        aa += 1.0/np.log(G.degree(node))\n",
    "    adar.append(aa)\n",
    "\n",
    "df_posneg['shortest_path'] = pd.Series(shortest_paths, index=df_posneg.index)\n",
    "df_posneg['common_neighbors'] = pd.Series(common_neighbor, index=df_posneg.index)\n",
    "df_posneg['jaccard'] = pd.Series(jaccard_coef, index=df_posneg.index)\n",
    "df_posneg['preferential_attachment'] = pd.Series(preferential_attachment, index=df_posneg.index)\n",
    "df_posneg['clustering_u'] = pd.Series(clustering_coef_u, index=df_posneg.index)\n",
    "df_posneg['clustering_v'] = pd.Series(clustering_coef_v, index=df_posneg.index)\n",
    "df_posneg['adamic-adar'] = pd.Series(adar, index=df_posneg.index)\n",
    "df_posneg.to_csv('dfdfdfdf') # save the df for future\n",
    "del shortest_paths\n",
    "del common_neighbor\n",
    "del jaccard_coef\n",
    "del preferential_attachment\n",
    "del clustering_coef_u\n",
    "del clustering_coef_v\n",
    "gc.collect()"
   ]
  },
  {
   "cell_type": "code",
   "execution_count": 3,
   "metadata": {
    "collapsed": false
   },
   "outputs": [],
   "source": [
    "#df_posneg = pd.read_csv('dfdfdf') # I used previously saved df, in order to not compute everything again\n",
    "#del df_posneg['Unnamed: 0']       "
   ]
  },
  {
   "cell_type": "code",
   "execution_count": 4,
   "metadata": {
    "collapsed": false,
    "scrolled": true
   },
   "outputs": [],
   "source": [
    "y = df_posneg['label']\n",
    "X = df_posneg\n",
    "del X['author1']\n",
    "del X['author2']\n",
    "del X['label']"
   ]
  },
  {
   "cell_type": "code",
   "execution_count": 99,
   "metadata": {
    "collapsed": false
   },
   "outputs": [],
   "source": [
    "def stat_feature(feature, border, plot=1, bins=10): # returns mean and std of features and draws the plot \n",
    "    pos = feature[:border] # border is approximately in the middle, since len(pos)~len(neg)\n",
    "    neg = feature[border:]\n",
    "    try:\n",
    "        if len(feature.loc[feature==10000]) > 0: # we do not count infinity here\n",
    "            pos = pos.loc[pos!=10000]\n",
    "            neg = neg.loc[neg!=10000]\n",
    "    except:\n",
    "        pass\n",
    "    print 'Positive mean: ', np.mean(pos)\n",
    "    print 'Positive std: ', np.std(pos)\n",
    "    print 'Negative mean: ', np.mean(neg)\n",
    "    print 'Negative std: ', np.std(neg)\n",
    "    if plot:\n",
    "        hist_pos, bin_edges = np.histogram(pos, bins=bins)\n",
    "        plt.plot(hist_pos, label='positive')\n",
    "        hist_neg, bin_edges = np.histogram(neg, bins=bins)\n",
    "        plt.plot(hist_neg, label='negative')\n",
    "        plt.ylabel('count')\n",
    "        plt.xlabel('bins')\n",
    "        plt.legend(loc=2, fontsize=9)\n",
    "        plt.show()\n",
    "    else:\n",
    "        hist_pos, bin_edges = np.histogram(pos, bins=bins)\n",
    "        plt.loglog(hist_pos, label='positive')\n",
    "        hist_neg, bin_edges = np.histogram(neg, bins=bins)\n",
    "        plt.loglog(hist_neg, label='negative')\n",
    "        plt.ylabel('count')\n",
    "        plt.xlabel('bins')\n",
    "        plt.legend(loc=2, fontsize=9)\n",
    "        plt.show()"
   ]
  },
  {
   "cell_type": "code",
   "execution_count": 100,
   "metadata": {
    "collapsed": false
   },
   "outputs": [
    {
     "name": "stdout",
     "output_type": "stream",
     "text": [
      "Positive mean:  0.38692803635\n",
      "Positive std:  0.340635902213\n",
      "Negative mean:  0.642481603593\n",
      "Negative std:  0.399054361707\n"
     ]
    },
    {
     "data": {
      "image/png": "[encoded data removed]",
      "text/plain": [
       "<matplotlib.figure.Figure at 0x1c1ff6d8>"
      ]
     },
     "metadata": {},
     "output_type": "display_data"
    }
   ],
   "source": [
    "stat_feature(zip(X['clustering_u'], X['clustering_v']), len(X)/2)"
   ]
  },
  {
   "cell_type": "code",
   "execution_count": 101,
   "metadata": {
    "collapsed": false
   },
   "outputs": [
    {
     "name": "stdout",
     "output_type": "stream",
     "text": [
      "Positive mean:  4.04447288356\n",
      "Positive std:  1.60860042831\n",
      "Negative mean:  6.66572780063\n",
      "Negative std:  1.37109018828\n"
     ]
    },
    {
     "data": {
      "image/png": "[encoded data removed]",
      "text/plain": [
       "<matplotlib.figure.Figure at 0x27a755c0>"
      ]
     },
     "metadata": {},
     "output_type": "display_data"
    }
   ],
   "source": [
    "stat_feature(X['shortest_path'], len(X)/2) "
   ]
  },
  {
   "cell_type": "code",
   "execution_count": 102,
   "metadata": {
    "collapsed": false
   },
   "outputs": [
    {
     "name": "stdout",
     "output_type": "stream",
     "text": [
      "Positive mean:  0.0131769251842\n",
      "Positive std:  0.0501742117857\n",
      "Negative mean:  1.15607324564e-05\n",
      "Negative std:  0.00168943321022\n"
     ]
    },
    {
     "data": {
      "image/png": "[encoded data removed]",
      "text/plain": [
       "<matplotlib.figure.Figure at 0x262da0b8>"
      ]
     },
     "metadata": {},
     "output_type": "display_data"
    }
   ],
   "source": [
    "stat_feature(X['jaccard'], len(X)/2, plot=0) # loglog scale"
   ]
  },
  {
   "cell_type": "code",
   "execution_count": 104,
   "metadata": {
    "collapsed": false
   },
   "outputs": [
    {
     "name": "stdout",
     "output_type": "stream",
     "text": [
      "Positive mean:  0.363224305032\n",
      "Positive std:  1.38950595518\n",
      "Negative mean:  0.000318542182488\n",
      "Negative std:  0.103160570295\n"
     ]
    },
    {
     "data": {
      "image/png": "[encoded data removed]",
      "text/plain": [
       "<matplotlib.figure.Figure at 0x26a69390>"
      ]
     },
     "metadata": {},
     "output_type": "display_data"
    }
   ],
   "source": [
    "stat_feature(X['common_neighbors'], len(X)/2, plot=0) # loglog scale"
   ]
  },
  {
   "cell_type": "code",
   "execution_count": 105,
   "metadata": {
    "collapsed": false
   },
   "outputs": [
    {
     "name": "stdout",
     "output_type": "stream",
     "text": [
      "Positive mean:  956.032660682\n",
      "Positive std:  3629.75487008\n",
      "Negative mean:  47.1552682533\n",
      "Negative std:  160.387826338\n"
     ]
    },
    {
     "data": {
      "image/png": "[encoded data removed]",
      "text/plain": [
       "<matplotlib.figure.Figure at 0x1ffb0320>"
      ]
     },
     "metadata": {},
     "output_type": "display_data"
    }
   ],
   "source": [
    "stat_feature(X['preferential_attachment'], len(X)/2, plot=0) # loglog scale"
   ]
  },
  {
   "cell_type": "markdown",
   "metadata": {
    "collapsed": true
   },
   "source": [
    "As we can see from the pictures, there are a quite different curves of the same feature for positive and negative classes."
   ]
  },
  {
   "cell_type": "markdown",
   "metadata": {
    "collapsed": false
   },
   "source": [
    "Now we implement several classifiers popular in the binary classification task. We chosed Random Forest, Logistic Regression, Gaussian Naive Bayes and Decision Tree."
   ]
  },
  {
   "cell_type": "code",
   "execution_count": 17,
   "metadata": {
    "collapsed": false
   },
   "outputs": [],
   "source": [
    "X = (X - X.mean()) / (X.std())"
   ]
  },
  {
   "cell_type": "code",
   "execution_count": 18,
   "metadata": {
    "collapsed": false
   },
   "outputs": [],
   "source": [
    "from sklearn.ensemble import RandomForestClassifier\n",
    "from sklearn.linear_model import LogisticRegression\n",
    "from sklearn import cross_validation\n",
    "from sklearn.naive_bayes import GaussianNB\n",
    "from sklearn.tree import DecisionTreeClassifier\n",
    "from sklearn import metrics"
   ]
  },
  {
   "cell_type": "code",
   "execution_count": 19,
   "metadata": {
    "collapsed": false
   },
   "outputs": [],
   "source": [
    "results = {'Classifier':['Random Forest', 'Logistic', 'Naive Bayes', 'Decision Tree'], \n",
    "           'Accuracy':[], 'Precision':[], 'Recall':[], 'F-score':[], 'MSE':[]}\n",
    "for clf in [RandomForestClassifier(), LogisticRegression(), GaussianNB(), DecisionTreeClassifier()]:\n",
    "    kf = cross_validation.KFold(len(X), n_folds=5, shuffle=True) \n",
    "    precision = []\n",
    "    recall = []\n",
    "    f_score = []\n",
    "    accuracy = []\n",
    "    mse = []\n",
    "    for train_index, test_index in kf:\n",
    "        X_train, X_test = X.iloc[train_index], X.iloc[test_index]\n",
    "        y_train, y_test = y.iloc[train_index], y.iloc[test_index]\n",
    "        clf.fit(X_train, y_train)\n",
    "        y_pred = clf.predict(X_test)\n",
    "        recall.append(metrics.recall_score(y_test, y_pred, average='binary'))\n",
    "        precision.append(metrics.precision_score(y_test, y_pred, average='binary'))\n",
    "        f_score.append(metrics.f1_score(y_test, y_pred, average='binary'))\n",
    "        mse.append(metrics.mean_squared_error(y_test, y_pred))\n",
    "        accuracy.append(metrics.accuracy_score(y_test, y_pred))\n",
    "    results['Precision'].append(np.mean(precision))\n",
    "    results['Recall'].append(np.mean(recall))\n",
    "    results['F-score'].append(np.mean(f_score))\n",
    "    results['Accuracy'].append(np.mean(accuracy))\n",
    "    results['MSE'].append(np.mean(mse))\n",
    "df_results = pd.DataFrame.from_dict(results)"
   ]
  },
  {
   "cell_type": "code",
   "execution_count": 20,
   "metadata": {
    "collapsed": false
   },
   "outputs": [
    {
     "data": {
      "text/html": [
       "<div>\n",
       "<table border=\"1\" class=\"dataframe\">\n",
       "  <thead>\n",
       "    <tr style=\"text-align: right;\">\n",
       "      <th></th>\n",
       "      <th>Accuracy</th>\n",
       "      <th>Classifier</th>\n",
       "      <th>F-score</th>\n",
       "      <th>MSE</th>\n",
       "      <th>Precision</th>\n",
       "      <th>Recall</th>\n",
       "    </tr>\n",
       "  </thead>\n",
       "  <tbody>\n",
       "    <tr>\n",
       "      <th>0</th>\n",
       "      <td>0.850840</td>\n",
       "      <td>Random Forest</td>\n",
       "      <td>0.841703</td>\n",
       "      <td>0.596639</td>\n",
       "      <td>0.876097</td>\n",
       "      <td>0.809908</td>\n",
       "    </tr>\n",
       "    <tr>\n",
       "      <th>1</th>\n",
       "      <td>0.791420</td>\n",
       "      <td>Logistic</td>\n",
       "      <td>0.769653</td>\n",
       "      <td>0.834321</td>\n",
       "      <td>0.837915</td>\n",
       "      <td>0.711677</td>\n",
       "    </tr>\n",
       "    <tr>\n",
       "      <th>2</th>\n",
       "      <td>0.686664</td>\n",
       "      <td>Naive Bayes</td>\n",
       "      <td>0.534097</td>\n",
       "      <td>1.253342</td>\n",
       "      <td>0.981945</td>\n",
       "      <td>0.366815</td>\n",
       "    </tr>\n",
       "    <tr>\n",
       "      <th>3</th>\n",
       "      <td>0.844056</td>\n",
       "      <td>Decision Tree</td>\n",
       "      <td>0.832909</td>\n",
       "      <td>0.623775</td>\n",
       "      <td>0.876076</td>\n",
       "      <td>0.793797</td>\n",
       "    </tr>\n",
       "  </tbody>\n",
       "</table>\n",
       "</div>"
      ],
      "text/plain": [
       "   Accuracy     Classifier   F-score       MSE  Precision    Recall\n",
       "0  0.850840  Random Forest  0.841703  0.596639   0.876097  0.809908\n",
       "1  0.791420       Logistic  0.769653  0.834321   0.837915  0.711677\n",
       "2  0.686664    Naive Bayes  0.534097  1.253342   0.981945  0.366815\n",
       "3  0.844056  Decision Tree  0.832909  0.623775   0.876076  0.793797"
      ]
     },
     "execution_count": 20,
     "metadata": {},
     "output_type": "execute_result"
    }
   ],
   "source": [
    "df_results # note, that mse is larger, because we have the labels {-1, 1} instead of {0, 1}"
   ]
  },
  {
   "cell_type": "markdown",
   "metadata": {
    "collapsed": false
   },
   "source": [
    "The results shown in the table almost agrees with the result from the first article.  Almost the same values showed Random Forest and Decision Tree. Naive Bayes performed pourly. \n",
    "\n",
    "Note: there wasn't any tuning performed, it computes to long, besides, the first article says that using default paremeter values is fine."
   ]
  },
  {
   "cell_type": "markdown",
   "metadata": {},
   "source": [
    "## Task 2"
   ]
  },
  {
   "cell_type": "markdown",
   "metadata": {},
   "source": [
    "Consider the [flickr dataset](https://www.hse.ru/data/2016/05/17/1128901463/flickr_data.tar.gz) (warning, raw data!). <br/>\n",
    "File ''*users.txt*'' provides a table of form *userID*, *enterTimeStamp*, *additionalInfo*... <br/>\n",
    "File \"*contacts.txt*\" consists of pairs of *userID*'s and link establishment timestamp <br/>\n",
    "\n",
    "Recall *scoring functions* for link prediction. Your task is to compare the performance of each scoring function as follows:\n",
    "1. TOP-$n$ accuracy\n",
    "    * Denote the number of links $E_\\text{new}$ appeared during testing period as $n$\n",
    "    * Denote the ranked list of node pairs provided by score $s$ as $\\hat{E}_s$\n",
    "    * Take top-$n$ pairs from $\\hat{E}_s$ and intersect it with $E_\\text{new}$. Performance is measured as the size of resulted set\n",
    "2. ROC and AUC ('star' subtask)\n",
    "\n",
    "Essentially, for this task you also have to follow the guideline points $1$ and $2$ above. The only thing you have to keep in mind is that flickr dataset is growing dataset. Since then, consider nodes that are significantly represented both in training and testing intervals (for instance, have at least $5$ adjacent edges in training and testing intervals)"
   ]
  },
  {
   "cell_type": "code",
   "execution_count": 2,
   "metadata": {
    "collapsed": false
   },
   "outputs": [
    {
     "name": "stdout",
     "output_type": "stream",
     "text": [
      "2769405 1872279\n"
     ]
    }
   ],
   "source": [
    "df = pd.read_csv('contacts.txt', header=None, sep=' ')\n",
    "df.columns = ['user1', 'user2', 'time']\n",
    "df = df.drop(df['time'].loc[df['time']<0].keys()) # drop negative values\n",
    "df_train = df.loc[df['time']>np.mean(df['time'])]  # mean gives about 2/3 1/3 split\n",
    "df_test = df.loc[df['time']<=np.mean(df['time'])]\n",
    "print len(df_train), len(df_test)\n",
    "del df_train['time']\n",
    "del df_test['time']\n",
    "hist = df_train.stack().value_counts()\n",
    "valid_nodes = hist[hist>6].keys() # leave only nodes with degree>6\n",
    "df_train = df_train.loc[df_train['user1'].isin(valid_nodes)].loc[df_train['user2'].isin(valid_nodes)]\n",
    "hist = df_test.stack().value_counts()\n",
    "valid_nodes = hist[hist>6].keys()\n",
    "df_test = df_test.loc[df_test['user1'].isin(valid_nodes)].loc[df_test['user2'].isin(valid_nodes)] "
   ]
  },
  {
   "cell_type": "code",
   "execution_count": 3,
   "metadata": {
    "collapsed": false
   },
   "outputs": [],
   "source": [
    "nodes_in_train = pd.concat([df_train['user1'], df_train['user2']]).unique() # nodes appeared in train\n",
    "nodes_in_test = pd.concat([df_test['user1'], df_test['user2']]).unique() # nodes appeared in test\n",
    "core = np.intersect1d(nodes_in_test, nodes_in_train) # nodes appeared in train and test (core set)\n",
    "df_test_pairs = df_test.loc[df_test['user1'].isin(core)].loc[df_test['user2'].isin(core)]\n",
    "df_intersection = pd.merge(df_test_pairs, df_train, how='inner', on=['user1', 'user2']).drop_duplicates() # is empty\n",
    "df_pos = df_test_pairs # E_new w to be the set of edges such that the two nodes appeared together in the test, but not in\n",
    "                       # the train"
   ]
  },
  {
   "cell_type": "markdown",
   "metadata": {},
   "source": [
    "Again, there are to many edges that do not exist in the test period. And we cannot check all of them, that's why we will check 10000000 of them"
   ]
  },
  {
   "cell_type": "code",
   "execution_count": 83,
   "metadata": {
    "collapsed": false
   },
   "outputs": [],
   "source": [
    "set_dd = set([])\n",
    "for row in df_train.iterrows():\n",
    "    set_dd.add((row[1][0], row[1][1]))\n",
    "    set_dd.add((row[1][1], row[1][0]))"
   ]
  },
  {
   "cell_type": "code",
   "execution_count": 112,
   "metadata": {
    "collapsed": false
   },
   "outputs": [],
   "source": [
    "d_unknown = {'user1':[], 'user2':[]}\n",
    "count = 0\n",
    "l = len(core) - 1 # from core x core. we can't predict edges with new nodes\n",
    "while(count < 10000000): \n",
    "    r = [0]*2\n",
    "    while r[0] == r[1]:\n",
    "        r = np.random.random_integers(0, l, 2)\n",
    "    a0 = core[r[0]]\n",
    "    a1 = core[r[1]]\n",
    "    rand_pair = (a0, a1)\n",
    "    if not (rand_pair in set_dd):\n",
    "        d_unknown['user1'].append(a0)\n",
    "        d_unknown['user2'].append(a1)\n",
    "        count += 1\n",
    "gc.collect()\n",
    "df_unknown = pd.DataFrame.from_dict(d_unknown).drop_duplicates() # 10000000 randomly picked edges from (core x (core-1)) - train"
   ]
  },
  {
   "cell_type": "code",
   "execution_count": 51,
   "metadata": {
    "collapsed": false
   },
   "outputs": [],
   "source": []
  },
  {
   "cell_type": "code",
   "execution_count": 86,
   "metadata": {
    "collapsed": false
   },
   "outputs": [
    {
     "data": {
      "text/plain": [
       "<networkx.classes.graph.Graph at 0x18fd2748>"
      ]
     },
     "execution_count": 86,
     "metadata": {},
     "output_type": "execute_result"
    }
   ],
   "source": [
    "G = nx.Graph()\n",
    "nx.from_pandas_dataframe(df_train, 'user1', 'user2', create_using=G)"
   ]
  },
  {
   "cell_type": "markdown",
   "metadata": {},
   "source": [
    "Scoring functions are same as before, except clustering "
   ]
  },
  {
   "cell_type": "code",
   "execution_count": 113,
   "metadata": {
    "collapsed": false
   },
   "outputs": [
    {
     "data": {
      "text/plain": [
       "28"
      ]
     },
     "execution_count": 113,
     "metadata": {},
     "output_type": "execute_result"
    }
   ],
   "source": [
    "shortest_paths = []\n",
    "common_neighbor = []\n",
    "jaccard_coef = []\n",
    "preferential_attachment = []\n",
    "adar = []\n",
    "for row in df_unknown.iterrows():     \n",
    "    try:\n",
    "        shortest_paths.append(1.0/nx.shortest_path_length(G,source=row[1][0],target=row[1][1]))\n",
    "    except:\n",
    "        shortest_paths.append(1.0/10000)\n",
    "    N1 = set(G.neighbors(row[1][0]))\n",
    "    N2 = set(G.neighbors(row[1][1]))\n",
    "    common_neighbor.append(len(N1 & N2))\n",
    "    jaccard_coef.append(1.0*len(N1 & N2)/len(N1 | N2))\n",
    "    preferential_attachment.append(len(N1)*len(N2))\n",
    "    aa = 0\n",
    "    for node in N1 & N2:\n",
    "        aa += 1.0/np.log(G.degree(node))\n",
    "    adar.append(aa)\n",
    "df_unknown['shortest_path'] = pd.Series(shortest_paths, index=df_unknown.index)\n",
    "df_unknown['common_neighbors'] = pd.Series(common_neighbor, index=df_unknown.index)\n",
    "df_unknown['jaccard'] = pd.Series(jaccard_coef, index=df_unknown.index)\n",
    "df_unknown['preferential_attachment'] = pd.Series(preferential_attachment, index=df_unknown.index)\n",
    "df_unknown['adamic-adar'] = pd.Series(adar, index=df_unknown.index)\n",
    "df_unknown.to_csv('df_flickr')\n",
    "del shortest_paths\n",
    "del common_neighbor\n",
    "del jaccard_coef\n",
    "del preferential_attachment\n",
    "del adar\n",
    "gc.collect()"
   ]
  },
  {
   "cell_type": "code",
   "execution_count": 2,
   "metadata": {
    "collapsed": false
   },
   "outputs": [],
   "source": [
    "#df_unknown = pd.read_csv('df_flickr')\n",
    "#del df_unknown['Unnamed: 0']"
   ]
  },
  {
   "cell_type": "code",
   "execution_count": 3,
   "metadata": {
    "collapsed": false
   },
   "outputs": [
    {
     "data": {
      "text/html": [
       "<div>\n",
       "<table border=\"1\" class=\"dataframe\">\n",
       "  <thead>\n",
       "    <tr style=\"text-align: right;\">\n",
       "      <th></th>\n",
       "      <th>user1</th>\n",
       "      <th>user2</th>\n",
       "      <th>shortest_path</th>\n",
       "      <th>common_neighbors</th>\n",
       "      <th>jaccard</th>\n",
       "      <th>preferential_attachment</th>\n",
       "      <th>adamic-adar</th>\n",
       "    </tr>\n",
       "  </thead>\n",
       "  <tbody>\n",
       "    <tr>\n",
       "      <th>0</th>\n",
       "      <td>200363</td>\n",
       "      <td>721751</td>\n",
       "      <td>0.250000</td>\n",
       "      <td>0</td>\n",
       "      <td>0.000000</td>\n",
       "      <td>57</td>\n",
       "      <td>0.000000</td>\n",
       "    </tr>\n",
       "    <tr>\n",
       "      <th>1</th>\n",
       "      <td>590873</td>\n",
       "      <td>593108</td>\n",
       "      <td>0.333333</td>\n",
       "      <td>0</td>\n",
       "      <td>0.000000</td>\n",
       "      <td>42</td>\n",
       "      <td>0.000000</td>\n",
       "    </tr>\n",
       "    <tr>\n",
       "      <th>2</th>\n",
       "      <td>276545</td>\n",
       "      <td>608044</td>\n",
       "      <td>0.166667</td>\n",
       "      <td>0</td>\n",
       "      <td>0.000000</td>\n",
       "      <td>18</td>\n",
       "      <td>0.000000</td>\n",
       "    </tr>\n",
       "    <tr>\n",
       "      <th>3</th>\n",
       "      <td>378420</td>\n",
       "      <td>16574</td>\n",
       "      <td>0.500000</td>\n",
       "      <td>3</td>\n",
       "      <td>0.050000</td>\n",
       "      <td>986</td>\n",
       "      <td>0.410166</td>\n",
       "    </tr>\n",
       "    <tr>\n",
       "      <th>4</th>\n",
       "      <td>182377</td>\n",
       "      <td>370779</td>\n",
       "      <td>0.333333</td>\n",
       "      <td>0</td>\n",
       "      <td>0.000000</td>\n",
       "      <td>8704</td>\n",
       "      <td>0.000000</td>\n",
       "    </tr>\n",
       "    <tr>\n",
       "      <th>5</th>\n",
       "      <td>439300</td>\n",
       "      <td>86069</td>\n",
       "      <td>0.200000</td>\n",
       "      <td>0</td>\n",
       "      <td>0.000000</td>\n",
       "      <td>72</td>\n",
       "      <td>0.000000</td>\n",
       "    </tr>\n",
       "    <tr>\n",
       "      <th>6</th>\n",
       "      <td>317659</td>\n",
       "      <td>353218</td>\n",
       "      <td>0.250000</td>\n",
       "      <td>0</td>\n",
       "      <td>0.000000</td>\n",
       "      <td>47</td>\n",
       "      <td>0.000000</td>\n",
       "    </tr>\n",
       "    <tr>\n",
       "      <th>7</th>\n",
       "      <td>576537</td>\n",
       "      <td>87386</td>\n",
       "      <td>0.333333</td>\n",
       "      <td>0</td>\n",
       "      <td>0.000000</td>\n",
       "      <td>170</td>\n",
       "      <td>0.000000</td>\n",
       "    </tr>\n",
       "    <tr>\n",
       "      <th>8</th>\n",
       "      <td>353733</td>\n",
       "      <td>357832</td>\n",
       "      <td>0.200000</td>\n",
       "      <td>0</td>\n",
       "      <td>0.000000</td>\n",
       "      <td>24</td>\n",
       "      <td>0.000000</td>\n",
       "    </tr>\n",
       "    <tr>\n",
       "      <th>9</th>\n",
       "      <td>512265</td>\n",
       "      <td>624323</td>\n",
       "      <td>0.333333</td>\n",
       "      <td>0</td>\n",
       "      <td>0.000000</td>\n",
       "      <td>7595</td>\n",
       "      <td>0.000000</td>\n",
       "    </tr>\n",
       "    <tr>\n",
       "      <th>10</th>\n",
       "      <td>196322</td>\n",
       "      <td>594152</td>\n",
       "      <td>0.333333</td>\n",
       "      <td>0</td>\n",
       "      <td>0.000000</td>\n",
       "      <td>1496</td>\n",
       "      <td>0.000000</td>\n",
       "    </tr>\n",
       "    <tr>\n",
       "      <th>11</th>\n",
       "      <td>363436</td>\n",
       "      <td>751894</td>\n",
       "      <td>0.250000</td>\n",
       "      <td>0</td>\n",
       "      <td>0.000000</td>\n",
       "      <td>3143</td>\n",
       "      <td>0.000000</td>\n",
       "    </tr>\n",
       "    <tr>\n",
       "      <th>12</th>\n",
       "      <td>586585</td>\n",
       "      <td>375083</td>\n",
       "      <td>0.333333</td>\n",
       "      <td>0</td>\n",
       "      <td>0.000000</td>\n",
       "      <td>220</td>\n",
       "      <td>0.000000</td>\n",
       "    </tr>\n",
       "    <tr>\n",
       "      <th>13</th>\n",
       "      <td>505057</td>\n",
       "      <td>53295</td>\n",
       "      <td>0.200000</td>\n",
       "      <td>0</td>\n",
       "      <td>0.000000</td>\n",
       "      <td>24</td>\n",
       "      <td>0.000000</td>\n",
       "    </tr>\n",
       "    <tr>\n",
       "      <th>14</th>\n",
       "      <td>427664</td>\n",
       "      <td>150193</td>\n",
       "      <td>0.500000</td>\n",
       "      <td>1</td>\n",
       "      <td>0.002105</td>\n",
       "      <td>2820</td>\n",
       "      <td>0.120979</td>\n",
       "    </tr>\n",
       "    <tr>\n",
       "      <th>15</th>\n",
       "      <td>465407</td>\n",
       "      <td>305560</td>\n",
       "      <td>0.333333</td>\n",
       "      <td>0</td>\n",
       "      <td>0.000000</td>\n",
       "      <td>4896</td>\n",
       "      <td>0.000000</td>\n",
       "    </tr>\n",
       "    <tr>\n",
       "      <th>16</th>\n",
       "      <td>391883</td>\n",
       "      <td>500544</td>\n",
       "      <td>0.333333</td>\n",
       "      <td>0</td>\n",
       "      <td>0.000000</td>\n",
       "      <td>35</td>\n",
       "      <td>0.000000</td>\n",
       "    </tr>\n",
       "    <tr>\n",
       "      <th>17</th>\n",
       "      <td>695303</td>\n",
       "      <td>372551</td>\n",
       "      <td>0.333333</td>\n",
       "      <td>0</td>\n",
       "      <td>0.000000</td>\n",
       "      <td>15582</td>\n",
       "      <td>0.000000</td>\n",
       "    </tr>\n",
       "    <tr>\n",
       "      <th>18</th>\n",
       "      <td>49594</td>\n",
       "      <td>137264</td>\n",
       "      <td>0.500000</td>\n",
       "      <td>1</td>\n",
       "      <td>0.013158</td>\n",
       "      <td>1326</td>\n",
       "      <td>0.114532</td>\n",
       "    </tr>\n",
       "    <tr>\n",
       "      <th>19</th>\n",
       "      <td>313172</td>\n",
       "      <td>250863</td>\n",
       "      <td>0.333333</td>\n",
       "      <td>0</td>\n",
       "      <td>0.000000</td>\n",
       "      <td>1548</td>\n",
       "      <td>0.000000</td>\n",
       "    </tr>\n",
       "    <tr>\n",
       "      <th>20</th>\n",
       "      <td>252962</td>\n",
       "      <td>515248</td>\n",
       "      <td>0.333333</td>\n",
       "      <td>0</td>\n",
       "      <td>0.000000</td>\n",
       "      <td>256</td>\n",
       "      <td>0.000000</td>\n",
       "    </tr>\n",
       "    <tr>\n",
       "      <th>21</th>\n",
       "      <td>50735</td>\n",
       "      <td>219450</td>\n",
       "      <td>0.333333</td>\n",
       "      <td>0</td>\n",
       "      <td>0.000000</td>\n",
       "      <td>315</td>\n",
       "      <td>0.000000</td>\n",
       "    </tr>\n",
       "    <tr>\n",
       "      <th>22</th>\n",
       "      <td>752094</td>\n",
       "      <td>579097</td>\n",
       "      <td>0.333333</td>\n",
       "      <td>0</td>\n",
       "      <td>0.000000</td>\n",
       "      <td>292</td>\n",
       "      <td>0.000000</td>\n",
       "    </tr>\n",
       "    <tr>\n",
       "      <th>23</th>\n",
       "      <td>519886</td>\n",
       "      <td>478913</td>\n",
       "      <td>0.333333</td>\n",
       "      <td>0</td>\n",
       "      <td>0.000000</td>\n",
       "      <td>2704</td>\n",
       "      <td>0.000000</td>\n",
       "    </tr>\n",
       "    <tr>\n",
       "      <th>24</th>\n",
       "      <td>81887</td>\n",
       "      <td>739661</td>\n",
       "      <td>0.250000</td>\n",
       "      <td>0</td>\n",
       "      <td>0.000000</td>\n",
       "      <td>49</td>\n",
       "      <td>0.000000</td>\n",
       "    </tr>\n",
       "    <tr>\n",
       "      <th>25</th>\n",
       "      <td>364178</td>\n",
       "      <td>335044</td>\n",
       "      <td>0.250000</td>\n",
       "      <td>0</td>\n",
       "      <td>0.000000</td>\n",
       "      <td>40</td>\n",
       "      <td>0.000000</td>\n",
       "    </tr>\n",
       "    <tr>\n",
       "      <th>26</th>\n",
       "      <td>343944</td>\n",
       "      <td>27717</td>\n",
       "      <td>0.333333</td>\n",
       "      <td>0</td>\n",
       "      <td>0.000000</td>\n",
       "      <td>589</td>\n",
       "      <td>0.000000</td>\n",
       "    </tr>\n",
       "    <tr>\n",
       "      <th>27</th>\n",
       "      <td>209427</td>\n",
       "      <td>293626</td>\n",
       "      <td>0.333333</td>\n",
       "      <td>0</td>\n",
       "      <td>0.000000</td>\n",
       "      <td>72</td>\n",
       "      <td>0.000000</td>\n",
       "    </tr>\n",
       "    <tr>\n",
       "      <th>28</th>\n",
       "      <td>58534</td>\n",
       "      <td>586209</td>\n",
       "      <td>0.500000</td>\n",
       "      <td>2</td>\n",
       "      <td>0.003106</td>\n",
       "      <td>10693</td>\n",
       "      <td>0.254182</td>\n",
       "    </tr>\n",
       "    <tr>\n",
       "      <th>29</th>\n",
       "      <td>759728</td>\n",
       "      <td>465189</td>\n",
       "      <td>0.333333</td>\n",
       "      <td>0</td>\n",
       "      <td>0.000000</td>\n",
       "      <td>8784</td>\n",
       "      <td>0.000000</td>\n",
       "    </tr>\n",
       "    <tr>\n",
       "      <th>...</th>\n",
       "      <td>...</td>\n",
       "      <td>...</td>\n",
       "      <td>...</td>\n",
       "      <td>...</td>\n",
       "      <td>...</td>\n",
       "      <td>...</td>\n",
       "      <td>...</td>\n",
       "    </tr>\n",
       "    <tr>\n",
       "      <th>9931584</th>\n",
       "      <td>330867</td>\n",
       "      <td>497343</td>\n",
       "      <td>0.333333</td>\n",
       "      <td>0</td>\n",
       "      <td>0.000000</td>\n",
       "      <td>648</td>\n",
       "      <td>0.000000</td>\n",
       "    </tr>\n",
       "    <tr>\n",
       "      <th>9931585</th>\n",
       "      <td>434874</td>\n",
       "      <td>115245</td>\n",
       "      <td>0.333333</td>\n",
       "      <td>0</td>\n",
       "      <td>0.000000</td>\n",
       "      <td>598</td>\n",
       "      <td>0.000000</td>\n",
       "    </tr>\n",
       "    <tr>\n",
       "      <th>9931586</th>\n",
       "      <td>223840</td>\n",
       "      <td>67625</td>\n",
       "      <td>0.333333</td>\n",
       "      <td>0</td>\n",
       "      <td>0.000000</td>\n",
       "      <td>550</td>\n",
       "      <td>0.000000</td>\n",
       "    </tr>\n",
       "    <tr>\n",
       "      <th>9931587</th>\n",
       "      <td>197720</td>\n",
       "      <td>220513</td>\n",
       "      <td>0.250000</td>\n",
       "      <td>0</td>\n",
       "      <td>0.000000</td>\n",
       "      <td>56</td>\n",
       "      <td>0.000000</td>\n",
       "    </tr>\n",
       "    <tr>\n",
       "      <th>9931588</th>\n",
       "      <td>511159</td>\n",
       "      <td>74398</td>\n",
       "      <td>0.250000</td>\n",
       "      <td>0</td>\n",
       "      <td>0.000000</td>\n",
       "      <td>54</td>\n",
       "      <td>0.000000</td>\n",
       "    </tr>\n",
       "    <tr>\n",
       "      <th>9931589</th>\n",
       "      <td>216419</td>\n",
       "      <td>413146</td>\n",
       "      <td>0.333333</td>\n",
       "      <td>0</td>\n",
       "      <td>0.000000</td>\n",
       "      <td>234</td>\n",
       "      <td>0.000000</td>\n",
       "    </tr>\n",
       "    <tr>\n",
       "      <th>9931590</th>\n",
       "      <td>74191</td>\n",
       "      <td>148667</td>\n",
       "      <td>0.500000</td>\n",
       "      <td>1</td>\n",
       "      <td>0.076923</td>\n",
       "      <td>48</td>\n",
       "      <td>0.140125</td>\n",
       "    </tr>\n",
       "    <tr>\n",
       "      <th>9931591</th>\n",
       "      <td>324747</td>\n",
       "      <td>317557</td>\n",
       "      <td>0.333333</td>\n",
       "      <td>0</td>\n",
       "      <td>0.000000</td>\n",
       "      <td>2883</td>\n",
       "      <td>0.000000</td>\n",
       "    </tr>\n",
       "    <tr>\n",
       "      <th>9931592</th>\n",
       "      <td>161586</td>\n",
       "      <td>358208</td>\n",
       "      <td>0.333333</td>\n",
       "      <td>0</td>\n",
       "      <td>0.000000</td>\n",
       "      <td>182</td>\n",
       "      <td>0.000000</td>\n",
       "    </tr>\n",
       "    <tr>\n",
       "      <th>9931593</th>\n",
       "      <td>215647</td>\n",
       "      <td>546222</td>\n",
       "      <td>0.500000</td>\n",
       "      <td>1</td>\n",
       "      <td>0.011364</td>\n",
       "      <td>1960</td>\n",
       "      <td>0.153816</td>\n",
       "    </tr>\n",
       "    <tr>\n",
       "      <th>9931594</th>\n",
       "      <td>221848</td>\n",
       "      <td>115836</td>\n",
       "      <td>0.500000</td>\n",
       "      <td>1</td>\n",
       "      <td>0.007519</td>\n",
       "      <td>1464</td>\n",
       "      <td>0.219089</td>\n",
       "    </tr>\n",
       "    <tr>\n",
       "      <th>9931595</th>\n",
       "      <td>321026</td>\n",
       "      <td>257794</td>\n",
       "      <td>0.333333</td>\n",
       "      <td>0</td>\n",
       "      <td>0.000000</td>\n",
       "      <td>495</td>\n",
       "      <td>0.000000</td>\n",
       "    </tr>\n",
       "    <tr>\n",
       "      <th>9931596</th>\n",
       "      <td>487477</td>\n",
       "      <td>35546</td>\n",
       "      <td>0.333333</td>\n",
       "      <td>0</td>\n",
       "      <td>0.000000</td>\n",
       "      <td>7506</td>\n",
       "      <td>0.000000</td>\n",
       "    </tr>\n",
       "    <tr>\n",
       "      <th>9931597</th>\n",
       "      <td>567360</td>\n",
       "      <td>635461</td>\n",
       "      <td>0.250000</td>\n",
       "      <td>0</td>\n",
       "      <td>0.000000</td>\n",
       "      <td>140</td>\n",
       "      <td>0.000000</td>\n",
       "    </tr>\n",
       "    <tr>\n",
       "      <th>9931598</th>\n",
       "      <td>27920</td>\n",
       "      <td>515432</td>\n",
       "      <td>0.333333</td>\n",
       "      <td>0</td>\n",
       "      <td>0.000000</td>\n",
       "      <td>4410</td>\n",
       "      <td>0.000000</td>\n",
       "    </tr>\n",
       "    <tr>\n",
       "      <th>9931599</th>\n",
       "      <td>243892</td>\n",
       "      <td>265432</td>\n",
       "      <td>0.250000</td>\n",
       "      <td>0</td>\n",
       "      <td>0.000000</td>\n",
       "      <td>712</td>\n",
       "      <td>0.000000</td>\n",
       "    </tr>\n",
       "    <tr>\n",
       "      <th>9931600</th>\n",
       "      <td>372255</td>\n",
       "      <td>310571</td>\n",
       "      <td>0.333333</td>\n",
       "      <td>0</td>\n",
       "      <td>0.000000</td>\n",
       "      <td>268</td>\n",
       "      <td>0.000000</td>\n",
       "    </tr>\n",
       "    <tr>\n",
       "      <th>9931601</th>\n",
       "      <td>102372</td>\n",
       "      <td>33808</td>\n",
       "      <td>0.333333</td>\n",
       "      <td>0</td>\n",
       "      <td>0.000000</td>\n",
       "      <td>120</td>\n",
       "      <td>0.000000</td>\n",
       "    </tr>\n",
       "    <tr>\n",
       "      <th>9931602</th>\n",
       "      <td>85015</td>\n",
       "      <td>330867</td>\n",
       "      <td>0.500000</td>\n",
       "      <td>1</td>\n",
       "      <td>0.008696</td>\n",
       "      <td>864</td>\n",
       "      <td>0.186037</td>\n",
       "    </tr>\n",
       "    <tr>\n",
       "      <th>9931603</th>\n",
       "      <td>420643</td>\n",
       "      <td>183404</td>\n",
       "      <td>0.333333</td>\n",
       "      <td>0</td>\n",
       "      <td>0.000000</td>\n",
       "      <td>150</td>\n",
       "      <td>0.000000</td>\n",
       "    </tr>\n",
       "    <tr>\n",
       "      <th>9931604</th>\n",
       "      <td>732114</td>\n",
       "      <td>203968</td>\n",
       "      <td>0.333333</td>\n",
       "      <td>0</td>\n",
       "      <td>0.000000</td>\n",
       "      <td>1296</td>\n",
       "      <td>0.000000</td>\n",
       "    </tr>\n",
       "    <tr>\n",
       "      <th>9931605</th>\n",
       "      <td>379259</td>\n",
       "      <td>349524</td>\n",
       "      <td>0.333333</td>\n",
       "      <td>0</td>\n",
       "      <td>0.000000</td>\n",
       "      <td>705</td>\n",
       "      <td>0.000000</td>\n",
       "    </tr>\n",
       "    <tr>\n",
       "      <th>9931606</th>\n",
       "      <td>454906</td>\n",
       "      <td>118215</td>\n",
       "      <td>0.333333</td>\n",
       "      <td>0</td>\n",
       "      <td>0.000000</td>\n",
       "      <td>11270</td>\n",
       "      <td>0.000000</td>\n",
       "    </tr>\n",
       "    <tr>\n",
       "      <th>9931607</th>\n",
       "      <td>296604</td>\n",
       "      <td>292436</td>\n",
       "      <td>0.333333</td>\n",
       "      <td>0</td>\n",
       "      <td>0.000000</td>\n",
       "      <td>96</td>\n",
       "      <td>0.000000</td>\n",
       "    </tr>\n",
       "    <tr>\n",
       "      <th>9931608</th>\n",
       "      <td>18428</td>\n",
       "      <td>572525</td>\n",
       "      <td>0.333333</td>\n",
       "      <td>0</td>\n",
       "      <td>0.000000</td>\n",
       "      <td>14</td>\n",
       "      <td>0.000000</td>\n",
       "    </tr>\n",
       "    <tr>\n",
       "      <th>9931609</th>\n",
       "      <td>625794</td>\n",
       "      <td>390255</td>\n",
       "      <td>0.500000</td>\n",
       "      <td>2</td>\n",
       "      <td>0.027397</td>\n",
       "      <td>536</td>\n",
       "      <td>0.264468</td>\n",
       "    </tr>\n",
       "    <tr>\n",
       "      <th>9931610</th>\n",
       "      <td>512213</td>\n",
       "      <td>182936</td>\n",
       "      <td>0.333333</td>\n",
       "      <td>0</td>\n",
       "      <td>0.000000</td>\n",
       "      <td>450</td>\n",
       "      <td>0.000000</td>\n",
       "    </tr>\n",
       "    <tr>\n",
       "      <th>9931611</th>\n",
       "      <td>491624</td>\n",
       "      <td>14378</td>\n",
       "      <td>0.333333</td>\n",
       "      <td>0</td>\n",
       "      <td>0.000000</td>\n",
       "      <td>2660</td>\n",
       "      <td>0.000000</td>\n",
       "    </tr>\n",
       "    <tr>\n",
       "      <th>9931612</th>\n",
       "      <td>457211</td>\n",
       "      <td>166604</td>\n",
       "      <td>0.333333</td>\n",
       "      <td>0</td>\n",
       "      <td>0.000000</td>\n",
       "      <td>552</td>\n",
       "      <td>0.000000</td>\n",
       "    </tr>\n",
       "    <tr>\n",
       "      <th>9931613</th>\n",
       "      <td>686464</td>\n",
       "      <td>85195</td>\n",
       "      <td>0.333333</td>\n",
       "      <td>0</td>\n",
       "      <td>0.000000</td>\n",
       "      <td>1722</td>\n",
       "      <td>0.000000</td>\n",
       "    </tr>\n",
       "  </tbody>\n",
       "</table>\n",
       "<p>9931614 rows × 7 columns</p>\n",
       "</div>"
      ],
      "text/plain": [
       "          user1   user2  shortest_path  common_neighbors   jaccard  \\\n",
       "0        200363  721751       0.250000                 0  0.000000   \n",
       "1        590873  593108       0.333333                 0  0.000000   \n",
       "2        276545  608044       0.166667                 0  0.000000   \n",
       "3        378420   16574       0.500000                 3  0.050000   \n",
       "4        182377  370779       0.333333                 0  0.000000   \n",
       "5        439300   86069       0.200000                 0  0.000000   \n",
       "6        317659  353218       0.250000                 0  0.000000   \n",
       "7        576537   87386       0.333333                 0  0.000000   \n",
       "8        353733  357832       0.200000                 0  0.000000   \n",
       "9        512265  624323       0.333333                 0  0.000000   \n",
       "10       196322  594152       0.333333                 0  0.000000   \n",
       "11       363436  751894       0.250000                 0  0.000000   \n",
       "12       586585  375083       0.333333                 0  0.000000   \n",
       "13       505057   53295       0.200000                 0  0.000000   \n",
       "14       427664  150193       0.500000                 1  0.002105   \n",
       "15       465407  305560       0.333333                 0  0.000000   \n",
       "16       391883  500544       0.333333                 0  0.000000   \n",
       "17       695303  372551       0.333333                 0  0.000000   \n",
       "18        49594  137264       0.500000                 1  0.013158   \n",
       "19       313172  250863       0.333333                 0  0.000000   \n",
       "20       252962  515248       0.333333                 0  0.000000   \n",
       "21        50735  219450       0.333333                 0  0.000000   \n",
       "22       752094  579097       0.333333                 0  0.000000   \n",
       "23       519886  478913       0.333333                 0  0.000000   \n",
       "24        81887  739661       0.250000                 0  0.000000   \n",
       "25       364178  335044       0.250000                 0  0.000000   \n",
       "26       343944   27717       0.333333                 0  0.000000   \n",
       "27       209427  293626       0.333333                 0  0.000000   \n",
       "28        58534  586209       0.500000                 2  0.003106   \n",
       "29       759728  465189       0.333333                 0  0.000000   \n",
       "...         ...     ...            ...               ...       ...   \n",
       "9931584  330867  497343       0.333333                 0  0.000000   \n",
       "9931585  434874  115245       0.333333                 0  0.000000   \n",
       "9931586  223840   67625       0.333333                 0  0.000000   \n",
       "9931587  197720  220513       0.250000                 0  0.000000   \n",
       "9931588  511159   74398       0.250000                 0  0.000000   \n",
       "9931589  216419  413146       0.333333                 0  0.000000   \n",
       "9931590   74191  148667       0.500000                 1  0.076923   \n",
       "9931591  324747  317557       0.333333                 0  0.000000   \n",
       "9931592  161586  358208       0.333333                 0  0.000000   \n",
       "9931593  215647  546222       0.500000                 1  0.011364   \n",
       "9931594  221848  115836       0.500000                 1  0.007519   \n",
       "9931595  321026  257794       0.333333                 0  0.000000   \n",
       "9931596  487477   35546       0.333333                 0  0.000000   \n",
       "9931597  567360  635461       0.250000                 0  0.000000   \n",
       "9931598   27920  515432       0.333333                 0  0.000000   \n",
       "9931599  243892  265432       0.250000                 0  0.000000   \n",
       "9931600  372255  310571       0.333333                 0  0.000000   \n",
       "9931601  102372   33808       0.333333                 0  0.000000   \n",
       "9931602   85015  330867       0.500000                 1  0.008696   \n",
       "9931603  420643  183404       0.333333                 0  0.000000   \n",
       "9931604  732114  203968       0.333333                 0  0.000000   \n",
       "9931605  379259  349524       0.333333                 0  0.000000   \n",
       "9931606  454906  118215       0.333333                 0  0.000000   \n",
       "9931607  296604  292436       0.333333                 0  0.000000   \n",
       "9931608   18428  572525       0.333333                 0  0.000000   \n",
       "9931609  625794  390255       0.500000                 2  0.027397   \n",
       "9931610  512213  182936       0.333333                 0  0.000000   \n",
       "9931611  491624   14378       0.333333                 0  0.000000   \n",
       "9931612  457211  166604       0.333333                 0  0.000000   \n",
       "9931613  686464   85195       0.333333                 0  0.000000   \n",
       "\n",
       "         preferential_attachment  adamic-adar  \n",
       "0                             57     0.000000  \n",
       "1                             42     0.000000  \n",
       "2                             18     0.000000  \n",
       "3                            986     0.410166  \n",
       "4                           8704     0.000000  \n",
       "5                             72     0.000000  \n",
       "6                             47     0.000000  \n",
       "7                            170     0.000000  \n",
       "8                             24     0.000000  \n",
       "9                           7595     0.000000  \n",
       "10                          1496     0.000000  \n",
       "11                          3143     0.000000  \n",
       "12                           220     0.000000  \n",
       "13                            24     0.000000  \n",
       "14                          2820     0.120979  \n",
       "15                          4896     0.000000  \n",
       "16                            35     0.000000  \n",
       "17                         15582     0.000000  \n",
       "18                          1326     0.114532  \n",
       "19                          1548     0.000000  \n",
       "20                           256     0.000000  \n",
       "21                           315     0.000000  \n",
       "22                           292     0.000000  \n",
       "23                          2704     0.000000  \n",
       "24                            49     0.000000  \n",
       "25                            40     0.000000  \n",
       "26                           589     0.000000  \n",
       "27                            72     0.000000  \n",
       "28                         10693     0.254182  \n",
       "29                          8784     0.000000  \n",
       "...                          ...          ...  \n",
       "9931584                      648     0.000000  \n",
       "9931585                      598     0.000000  \n",
       "9931586                      550     0.000000  \n",
       "9931587                       56     0.000000  \n",
       "9931588                       54     0.000000  \n",
       "9931589                      234     0.000000  \n",
       "9931590                       48     0.140125  \n",
       "9931591                     2883     0.000000  \n",
       "9931592                      182     0.000000  \n",
       "9931593                     1960     0.153816  \n",
       "9931594                     1464     0.219089  \n",
       "9931595                      495     0.000000  \n",
       "9931596                     7506     0.000000  \n",
       "9931597                      140     0.000000  \n",
       "9931598                     4410     0.000000  \n",
       "9931599                      712     0.000000  \n",
       "9931600                      268     0.000000  \n",
       "9931601                      120     0.000000  \n",
       "9931602                      864     0.186037  \n",
       "9931603                      150     0.000000  \n",
       "9931604                     1296     0.000000  \n",
       "9931605                      705     0.000000  \n",
       "9931606                    11270     0.000000  \n",
       "9931607                       96     0.000000  \n",
       "9931608                       14     0.000000  \n",
       "9931609                      536     0.264468  \n",
       "9931610                      450     0.000000  \n",
       "9931611                     2660     0.000000  \n",
       "9931612                      552     0.000000  \n",
       "9931613                     1722     0.000000  \n",
       "\n",
       "[9931614 rows x 7 columns]"
      ]
     },
     "execution_count": 3,
     "metadata": {},
     "output_type": "execute_result"
    }
   ],
   "source": [
    "df_unknown"
   ]
  },
  {
   "cell_type": "code",
   "execution_count": 5,
   "metadata": {
    "collapsed": false
   },
   "outputs": [],
   "source": [
    "# what edges in the generated set appear in test?\n",
    "df_pos_in_unknown = pd.merge(df_pos, df_unknown, how='inner', on=['user1', 'user2']).drop_duplicates() \n",
    "set_intersection = set([])\n",
    "for row in df_pos_in_unknown.iterrows():\n",
    "    set_intersection.add((row[1][0], row[1][1]))"
   ]
  },
  {
   "cell_type": "code",
   "execution_count": 6,
   "metadata": {
    "collapsed": false
   },
   "outputs": [],
   "source": [
    "# here we separate positive and negative among df_unknown\n",
    "idxs = []\n",
    "for row in df_unknown.iterrows():\n",
    "    if ((row[1][0], row[1][1]) in set_intersection) or ((row[1][1], row[1][0]) in set_intersection):\n",
    "        idxs.append(row[0])\n",
    "df_neg_in_unknown = df_unknown.drop(idxs)\n",
    "n = len(df_pos_in_unknown)\n",
    "n_neg = len(df_neg_in_unknown)\n",
    "df_neg_in_unknown.to_csv('df_neg_in_unknown')\n",
    "df_pos_in_unknown.to_csv('df_pos_in_unknown')"
   ]
  },
  {
   "cell_type": "code",
   "execution_count": 3,
   "metadata": {
    "collapsed": true
   },
   "outputs": [],
   "source": [
    "#df_neg_in_unknown = pd.read_csv('df_neg_in_unknown')\n",
    "#del df_neg_in_unknown['Unnamed: 0']\n",
    "#df_pos_in_unknown = pd.read_csv('df_pos_in_unknown')\n",
    "#del df_pos_in_unknown['Unnamed: 0']\n"
   ]
  },
  {
   "cell_type": "markdown",
   "metadata": {},
   "source": [
    "Since we generated only 10000000 pairs, we must consider only those positive edges, which are in these 10000000 pairs.\n",
    "So, n = len(df_pos_in_unknown). Therefore, the number of negative is 10000000-n."
   ]
  },
  {
   "cell_type": "markdown",
   "metadata": {},
   "source": [
    "We take best n among 10000000 pairs using each scoring function:"
   ]
  },
  {
   "cell_type": "code",
   "execution_count": 27,
   "metadata": {
    "collapsed": false
   },
   "outputs": [
    {
     "name": "stdout",
     "output_type": "stream",
     "text": [
      "preferential_attachment :  0.0963012083702\n",
      "shortest_path :  0.00935750073681\n",
      "common_neighbors :  0.133289124668\n",
      "jaccard :  0.109858532272\n",
      "adamic-adar :  0.136973180077\n"
     ]
    }
   ],
   "source": [
    "for scoring in ['preferential_attachment', 'shortest_path', 'common_neighbors', 'jaccard', 'adamic-adar']:\n",
    "    top = df_unknown.sort_values(scoring, ascending=False)[:n]\n",
    "    prob = 1.0*len(pd.merge(df_pos_in_unknown, top, how='inner', on=['user1', 'user2']).drop_duplicates())/n\n",
    "    print scoring, ': ', prob"
   ]
  },
  {
   "cell_type": "markdown",
   "metadata": {},
   "source": [
    "These numbers allow us to compare perfomance of the scoring functions. So, the best result demonstrated Adamic-Adar, slightly worse are common neighbors and Jaccard's coefficient. Preferential attachment is also quite good, in contrast with the [article](http://www.cs.rpi.edu/~magdon/courses/casp/projects/BhardwajLu.pdf). The shortest path score should perform much better, but the problem is that the edges with the smallest distance of 2 are more then $n$. It show much better result with ROC-curve "
   ]
  },
  {
   "cell_type": "markdown",
   "metadata": {},
   "source": [
    "Compare with the random guess:"
   ]
  },
  {
   "cell_type": "code",
   "execution_count": 34,
   "metadata": {
    "collapsed": false
   },
   "outputs": [
    {
     "name": "stdout",
     "output_type": "stream",
     "text": [
      "random:  0.00132625994695\n"
     ]
    }
   ],
   "source": [
    "top = df_unknown.sample(n)\n",
    "prob = 1.0*len(pd.merge(df_pos_in_unknown, top, how='inner', on=['user1', 'user2']).drop_duplicates())/n\n",
    "print 'random: ', prob"
   ]
  },
  {
   "cell_type": "code",
   "execution_count": 5,
   "metadata": {
    "collapsed": false
   },
   "outputs": [],
   "source": [
    "def FPRTPR(top_k, df_pos_in_unknown, df_neg_in_unknown, np, nn): # returns TPR and FPR\n",
    "    TPR = 1.0*len(pd.merge(df_pos_in_unknown, top_k, how='inner', on=['user1', 'user2']).drop_duplicates())/np\n",
    "    FPR = 1.0*len(pd.merge(df_neg_in_unknown, top_k, how='inner', on=['user1', 'user2']).drop_duplicates())/nn\n",
    "    return TPR, FPR"
   ]
  },
  {
   "cell_type": "markdown",
   "metadata": {},
   "source": [
    "Here we move the margin between pos and neg (the number of top nodes $k$) classes along each scoring function. "
   ]
  },
  {
   "cell_type": "markdown",
   "metadata": {},
   "source": [
    "Calculate ROC-curve, when we are so random:"
   ]
  },
  {
   "cell_type": "code",
   "execution_count": 8,
   "metadata": {
    "collapsed": false
   },
   "outputs": [
    {
     "name": "stdout",
     "output_type": "stream",
     "text": [
      "0.0 0.0\n",
      "0.202917771883 0.199995563617\n",
      "0.395225464191 0.400006251267\n",
      "0.599395814913 0.600001109096\n",
      "0.802387267905 0.799996370232\n",
      "1.0 0.999999596692\n"
     ]
    },
    {
     "data": {
      "image/png": "[encoded data removed]",
      "text/plain": [
       "<matplotlib.figure.Figure at 0x18aba128>"
      ]
     },
     "metadata": {},
     "output_type": "display_data"
    }
   ],
   "source": [
    "np = len(df_pos_in_unknown)\n",
    "nn = len(df_neg_in_unknown)\n",
    "fpr, tpr = [], []\n",
    "auc = 0\n",
    "for k in range(0, len(df_unknown),len(df_unknown)/5):\n",
    "    top = df_unknown.sample(k)\n",
    "    x, y = FPRTPR(top, df_pos_in_unknown, df_neg_in_unknown, np, nn)\n",
    "    fpr.append(y)\n",
    "    tpr.append(x)\n",
    "    print x, y\n",
    "for ind in range(1, len(fpr)):\n",
    "    auc += (fpr[ind]-fpr[ind-1])*(tpr[ind-1]+tpr[ind])/2 # auc calculation\n",
    "plt.plot(fpr, tpr)\n",
    "plt.xlabel('fpr')\n",
    "plt.ylabel('tpr')\n",
    "plt.title('random. auc='+str(auc))\n",
    "plt.show()"
   ]
  },
  {
   "cell_type": "markdown",
   "metadata": {},
   "source": [
    "Scoring functions:"
   ]
  },
  {
   "cell_type": "code",
   "execution_count": 14,
   "metadata": {
    "collapsed": false
   },
   "outputs": [
    {
     "data": {
      "image/png": "[encoded data removed]",
      "text/plain": [
       "<matplotlib.figure.Figure at 0x41e3f4e0>"
      ]
     },
     "metadata": {},
     "output_type": "display_data"
    }
   ],
   "source": [
    "plt.figure(figsize=(10,10))\n",
    "for scoring in ['preferential_attachment', 'shortest_path', 'common_neighbors', 'jaccard', 'adamic-adar']:\n",
    "    fpr, tpr = [], []\n",
    "    auc = 0\n",
    "    top = df_unknown.sort_values(scoring, ascending=False)\n",
    "    for k in range(0, len(df_unknown),len(df_unknown)/5): # 5 is to compute quickier\n",
    "        x, y = FPRTPR(top[:k], df_pos_in_unknown, df_neg_in_unknown, np, nn)\n",
    "        fpr.append(y)\n",
    "        tpr.append(x)\n",
    "    for ind in range(1, len(fpr)):\n",
    "        auc += (fpr[ind]-fpr[ind-1])*(tpr[ind-1]+tpr[ind])/2\n",
    "    plt.plot(fpr, tpr, label = scoring+'. auc='+str(auc))\n",
    "plt.xlabel('fpr')\n",
    "plt.ylabel('tpr')\n",
    "plt.legend(fontsize='small', loc=2)\n",
    "plt.show()"
   ]
  },
  {
   "cell_type": "markdown",
   "metadata": {
    "collapsed": false
   },
   "source": [
    "The shortest path distance achieved the highest score among the other predictors. "
   ]
  },
  {
   "cell_type": "code",
   "execution_count": null,
   "metadata": {
    "collapsed": false
   },
   "outputs": [],
   "source": []
  },
  {
   "cell_type": "code",
   "execution_count": null,
   "metadata": {
    "collapsed": true
   },
   "outputs": [],
   "source": []
  }
 ],
 "metadata": {
  "kernelspec": {
   "display_name": "Python 2",
   "language": "python",
   "name": "python2"
  },
  "language_info": {
   "codemirror_mode": {
    "name": "ipython",
    "version": 2
   },
   "file_extension": ".py",
   "mimetype": "text/x-python",
   "name": "python",
   "nbconvert_exporter": "python",
   "pygments_lexer": "ipython2",
   "version": "2.7.11"
  }
 },
 "nbformat": 4,
 "nbformat_minor": 0
}
