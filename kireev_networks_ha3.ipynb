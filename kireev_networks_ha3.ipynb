{
 "cells": [
  {
   "cell_type": "markdown",
   "metadata": {},
   "source": [
    "# <center>Network Science</center>"
   ]
  },
  {
   "cell_type": "markdown",
   "metadata": {},
   "source": [
    "## <center>Home Assignment #3: Centralities and Assortativity</center>"
   ]
  },
  {
   "cell_type": "markdown",
   "metadata": {},
   "source": [
    "### <center>Student: Ruslan Kireev</center>"
   ]
  },
  {
   "cell_type": "markdown",
   "metadata": {},
   "source": [
    "#### <hr /> General Information"
   ]
  },
  {
   "cell_type": "markdown",
   "metadata": {},
   "source": [
    "**Due Date:** 13.03.2016 23:59 <br \\>\n",
    "**Late submission policy:** -0.2 points per day <br \\>\n",
    "\n",
    "\n",
    "Please send your reports to <network.hse.2016@gmail.com> with message subject of the following structure:<br \\> **[HSE Networks 2015] *{LastName}* *{First Name}* HA*{Number}***\n",
    "\n",
    "Support your computations with figures and comments. <br \\>\n",
    "If you are using IPython Notebook you may use this file as a starting point of your report.<br \\>\n",
    "<br \\>\n",
    "<hr \\>"
   ]
  },
  {
   "cell_type": "markdown",
   "metadata": {},
   "source": [
    "## Problems"
   ]
  },
  {
   "cell_type": "markdown",
   "metadata": {},
   "source": [
    "### Task 1"
   ]
  },
  {
   "cell_type": "markdown",
   "metadata": {},
   "source": [
    "Compute degree centrality, Pagerank and  HubAuthorities scores for the [flickr](https://www.hse.ru/data/2016/02/24/1139618969/flickr.mat) network. \n",
    "\n",
    "Data contains sparse matrix A and list of user names.\n",
    "This is a “denser” part of the Flickr photo sharing site friendship graph from 2006. Edge direction corresponds to friendship requests (following). Some of the links are reciprocal,others not.  \n",
    "\n",
    "Provide top 50 names in each ranking, compare results\n",
    "\n",
    "You can load .mat files with the following commands:\n",
    "\n",
    "----------------------------"
   ]
  },
  {
   "cell_type": "markdown",
   "metadata": {},
   "source": [
    "The first thing should be done is to represent our .mat data as a networkx graph:"
   ]
  },
  {
   "cell_type": "code",
   "execution_count": 1,
   "metadata": {
    "collapsed": false
   },
   "outputs": [],
   "source": [
    "import scipy.io\n",
    "import networkx as nx\n",
    "\n",
    "data = scipy.io.loadmat('flickr.mat')\n",
    "G = nx.from_scipy_sparse_matrix(data['A'],create_using=nx.DiGraph())\n",
    "mapping = dict(zip(G.nodes(),data['names']))\n",
    "G = nx.relabel_nodes(G,mapping)"
   ]
  },
  {
   "cell_type": "markdown",
   "metadata": {},
   "source": [
    "Calculate each ranking and sort it out:"
   ]
  },
  {
   "cell_type": "code",
   "execution_count": 2,
   "metadata": {
    "collapsed": false
   },
   "outputs": [],
   "source": [
    "degree_sorted = sorted(nx.degree_centrality(G).items(), key=lambda (k,v): v, reverse=True)\n",
    "degree_in_sorted = sorted(nx.in_degree_centrality(G).items(), key=lambda (k,v): v, reverse=True)\n",
    "degree_out_sorted = sorted(nx.out_degree_centrality(G).items(), key=lambda (k,v): v, reverse=True)\n",
    "pagerank_sorted = sorted(nx.pagerank(G).items(), key=lambda (k,v): v, reverse=True)\n",
    "hubs, authorities = nx.hits(G)\n",
    "hubs_sorted = sorted(hubs.items(), key=lambda (k,v): v, reverse=True)\n",
    "authorities_sorted = sorted(authorities.items(), key=lambda (k,v): v, reverse=True)"
   ]
  },
  {
   "cell_type": "markdown",
   "metadata": {},
   "source": [
    "Find top 50 names and print kind of line by line"
   ]
  },
  {
   "cell_type": "code",
   "execution_count": 3,
   "metadata": {
    "collapsed": false
   },
   "outputs": [],
   "source": [
    "degree_top50 = []\n",
    "degree_in_top50 = []\n",
    "degree_out_top50 = []\n",
    "pagerank_top50 = []\n",
    "hubs_top50 = []\n",
    "authorities_top50 = []\n",
    "for i in xrange(50):\n",
    "    degree_top50.append(degree_sorted[i][0].strip())\n",
    "    degree_in_top50.append(degree_in_sorted[i][0].strip())\n",
    "    degree_out_top50.append(degree_out_sorted[i][0].strip())\n",
    "    pagerank_top50.append(pagerank_sorted[i][0].strip())\n",
    "    hubs_top50.append(hubs_sorted[i][0].strip())\n",
    "    authorities_top50.append(authorities_sorted[i][0].strip())"
   ]
  },
  {
   "cell_type": "code",
   "execution_count": 4,
   "metadata": {
    "collapsed": false,
    "scrolled": true
   },
   "outputs": [
    {
     "name": "stdout",
     "output_type": "stream",
     "text": [
      "[[u'awfulsara' u'awfulsara' u'awfulsara' u'awfulsara' u'anildash'\n",
      "  u'mrpiink']\n",
      " [u'drp' u'drp' u'drp' u'drp' u'tozzer' u'automat']\n",
      " [u'DrJoanne' u'*Ivan*' u'antimethod' u'DrJoanne' u'AtiRanA' u'schizoo23']\n",
      " [u'antimethod' u'antimethod' u'BombDog' u'*Ivan*' u'pixietart'\n",
      "  u'lorrainemd']\n",
      " [u'*Ivan*' u'DrJoanne' u'*Ivan*' u'antimethod' u'jakedobkin' u'sgoralnick']\n",
      " [u'BombDog' u'BombDog' u'MaD Gi\\xc2\\xaeL\\xe2\\x80\\xa2\\xe2\\x84\\xa2'\n",
      "  u'BombDog' u'Buntekuh' u'*starlet*']\n",
      " [u'deborah lattimore' u'Simon Pais' u'DrJoanne' u'Simon Pais'\n",
      "  u'Jakes_World' u'brynfoto']\n",
      " [u'Simon Pais' u'deborah lattimore' u'Simon Pais' u'deborah lattimore'\n",
      "  u'brainware3000' u'liquid pixel']\n",
      " [u'cymagen' u'MaD Gi\\xc2\\xaeL\\xe2\\x80\\xa2\\xe2\\x84\\xa2'\n",
      "  u'deborah lattimore' u'cymagen' u'maximolly' u'noahstone']\n",
      " [u'notraces' u'notraces' u'cymagen' u':Nikola' u'Andreia Lopes'\n",
      "  u'isherwood']\n",
      " [u'MaD Gi\\xc2\\xaeL\\xe2\\x80\\xa2\\xe2\\x84\\xa2' u':Nikola' u':Nikola'\n",
      "  u'lorrainemd' u'inthegan' u'Arno-MM']\n",
      " [u'aleyna' u'cymagen' u'notraces' u'*starlet*' u'elvis1967'\n",
      "  u'scotsman0170']\n",
      " [u'*starlet*' u'aleyna' u'jkottke' u'aleyna' u'990000' u'WaveSpire']\n",
      " [u'lorrainemd' u'lorrainemd' u'lorrainemd' u'artofgold' u': Esther'\n",
      "  u'tozzer']\n",
      " [u'Pandarine' u'artofgold' u'slowernet' u'notraces' u'spanier'\n",
      "  u'...cathzilla']\n",
      " [u':Nikola' u'*starlet*' u'artofgold' u'romanlily' u'dmoore' u'cymagen']\n",
      " [u'artofgold' u'romanlily' u'romanlily' u'Pandarine' u'kathryn'\n",
      "  u'ola_babe1']\n",
      " [u'Mareen Fischinger' u'Pandarine' u'*starlet*' u'Mylens'\n",
      "  u'Charles Machado' u'DrJoanne']\n",
      " [u'gu@va' u'jkottke' u'Pandarine' u'Mareen Fischinger' u'drp'\n",
      "  u'pablokorona']\n",
      " [u'Mylens' u'hot_luscious' u'hot_luscious' u'bernardo.borghetti'\n",
      "  u'What What' u'demouser']\n",
      " [u'bernardo.borghetti' u'Mareen Fischinger' u'Mareen Fischinger' u'gu@va'\n",
      "  u'mehmetkale' u'jallive']\n",
      " [u'hot_luscious' u'Mylens' u'underbunny' u'Sexy Swedish Babe' u'rivello'\n",
      "  u'macebio']\n",
      " [u'romanlily' u'slowernet' u'fraying' u'pbowers' u'blackbeltjones'\n",
      "  u'marika b']\n",
      " [u'jkottke' u'gu@va' u'Mylens' u'.lush' u'meadows' u'drp']\n",
      " [u'pixietart' u'bernardo.borghetti' u'aleyna' u'Merina' u'aracay'\n",
      "  u'Osvaldo']\n",
      " [u'slowernet' u'CherryVega' u'* HoNe$t *' u'Esther_G' u'dianeham'\n",
      "  u'Crea.tive']\n",
      " [u'anildash' u'pbowers' u'gu@va' u'slowernet' u'Lucilia'\n",
      "  u'sheldonschwartz']\n",
      " [u'pbowers' u'underbunny' u'pbowers' u'CherryVega' u'pro keds' u'virgu']\n",
      " [u'Joi' u'Merina' u'anildash' u'bex_ai' u'a nameless yeast' u'mehmetkale']\n",
      " [u'fraying' u'Loobylu' u'Loobylu' u'nedrosen' u'Photographer Dre'\n",
      "  u'gucci1000']\n",
      " [u'naftalina007' u'* HoNe$t *' u'Joi' u'naftalina007' u'virgu' u'Zewalt']\n",
      " [u'.lush' u'.lush' u'CherryVega' u'Agridulce' u'tantek'\n",
      "  u'bernardo.borghetti']\n",
      " [u'Loobylu' u'fraying' u'Marcelo  Montecino' u'callipygian' u'nickf'\n",
      "  u'notraces']\n",
      " [u'Buntekuh' u'pixietart' u'bernardo.borghetti' u'isherwood' u'cooks'\n",
      "  u'Grains And Light']\n",
      " [u'CherryVega' u'naftalina007' u'!!uAe prince!!' u'aircrash' u'Zsaj'\n",
      "  u'overshadowed']\n",
      " [u'Gayla' u'fd' u'Esther_G' u'Lola The Car Chick' u'jayallen' u'neuskool']\n",
      " [u'jakedobkin' u'aquanerds' u'Departure Lounge' u'liliths_nymph'\n",
      "  u'cymagen' u'pblgbp']\n",
      " [u'underbunny' u'Joi' u'gruntzooki' u'Solarman' u'mypapercrane'\n",
      "  u'sillydog']\n",
      " [u'fd' u'Esther_G' u'Gayla' u'Ryou in the box' u'me4ta' u'zaharoula']\n",
      " [u'Airchild' u'carf' u'Tom Coates' u'pixietart' u'gardengal'\n",
      "  u'mark daniel']\n",
      " [u'maximolly' u'Sexy Swedish Babe' u'maximolly' u'Rachael D' u'ribena'\n",
      "  u'astrid~']\n",
      " [u'* HoNe$t *' u'Marcelo  Montecino' u'chromogenic' u'fd' u'roamin'\n",
      "  u'MrTopf']\n",
      " [u'Sexy Swedish Babe' u'!!uAe prince!!' u'Agridulce' u'macwagen' u'judith'\n",
      "  u'spanier']\n",
      " [u'Ya Ya' u'callipygian' u'naftalina007' u'underbunny' u'Airchild' u'ricd']\n",
      " [u'kaneblues' u'Agridulce' u'pixietart' u'* HoNe$t *' u'mdintoronto'\n",
      "  u'schani']\n",
      " [u'Tsunami Notes' u'Least Wanted' u'aquanerds' u'kunja' u'lucycat'\n",
      "  u'redmondbarry']\n",
      " [u'990000' u'Gayla' u'overshadowed' u'Home alone' u'killer robot'\n",
      "  u'Mareen Fischinger']\n",
      " [u'overshadowed' u'anildash' u'.lush' u'bekon' u'chomp' u'grow-er']\n",
      " [u'Tom Coates' u'reddirtrose' u'jakedobkin' u'tecgirl' u'ghostbones'\n",
      "  u'.lush']\n",
      " [u'good morning stradivari' u'tecgirl' u'fd' u'carf' u'2005tigarn'\n",
      "  u'naftalina007']]\n"
     ]
    }
   ],
   "source": [
    "import numpy as np\n",
    "a = np.array((degree_top50,degree_in_top50,pagerank_top50,authorities_top50,degree_out_top50,hubs_top50))\n",
    "print np.transpose(a)"
   ]
  },
  {
   "cell_type": "markdown",
   "metadata": {},
   "source": [
    "As we can see from above there are quite simillar names on the top for all rankings except out-degree centrality and hubs. To get more formal let's calculate intersections for most interesting combinations:"
   ]
  },
  {
   "cell_type": "code",
   "execution_count": 5,
   "metadata": {
    "collapsed": false
   },
   "outputs": [
    {
     "name": "stdout",
     "output_type": "stream",
     "text": [
      "30\n",
      "6\n",
      "10\n"
     ]
    }
   ],
   "source": [
    "print len(set(degree_top50) & set(pagerank_top50) & set(authorities_top50))\n",
    "print len(set(degree_out_top50) & set(hubs_top50))\n",
    "print len(set(degree_top50) & set(pagerank_top50) & set(authorities_top50) & set(hubs_top50))"
   ]
  },
  {
   "cell_type": "markdown",
   "metadata": {},
   "source": [
    "We can conclude, that degree centrality, pagarank and authorities show quite alike results(60% of names are common). Besides, as we know, good hubs point to good authorities, that's why it's reasonable to compare outdegree centrality and hubs. It was shown to be only 6 out of 50 names, while even an intersection with all the others gives 10 common names. "
   ]
  },
  {
   "cell_type": "markdown",
   "metadata": {},
   "source": [
    "### <hr /> Task 2"
   ]
  },
  {
   "cell_type": "markdown",
   "metadata": {},
   "source": [
    "Here are the [Facebook friendship graphs](https://www.hse.ru/data/2016/03/05/1125656999/universities.zip) from several US universities from 2005 (one year after fb launch).\n",
    "\n",
    "Data contains a A matrix (sparse) and a \"local_info\" variable, one row per node: \n",
    "a student/faculty status flag, gender, major, second major/minor (if applicable), dorm/house, year, and high school. \n",
    "Missing data is coded 0.\n",
    "\n",
    "Compute node degree assortativity (mixining by node degree) and assortativity coefficient (modularity) for gender, major, dormitory, year, high school for all universities and compare the results."
   ]
  },
  {
   "cell_type": "code",
   "execution_count": 6,
   "metadata": {
    "collapsed": false
   },
   "outputs": [],
   "source": [
    "universities = ['Berkeley13.mat','Caltech36.mat','Harvard1.mat','Texas80.mat','Princeton12.mat','Oklahoma97.mat']\n",
    "data = []\n",
    "for x in universities:\n",
    "    data.append(scipy.io.loadmat(x))"
   ]
  },
  {
   "cell_type": "markdown",
   "metadata": {},
   "source": [
    "This function takes a dataset and an attribute and returns assortativity for given attribute and degree assortativity if there are no attribute. "
   ]
  },
  {
   "cell_type": "code",
   "execution_count": 7,
   "metadata": {
    "collapsed": false,
    "scrolled": true
   },
   "outputs": [],
   "source": [
    "def assortativity(data, attr=None):\n",
    "    attrs = dict([('gender',1), ('major',2), ('dormitory',4), ('year',5), ('high_school',6)])\n",
    "    G = nx.from_scipy_sparse_matrix(data['A'],create_using=nx.DiGraph())\n",
    "    if not attr:\n",
    "        return nx.degree_assortativity_coefficient(G)\n",
    "    mapping = dict(zip(G.nodes(),data['local_info'][:,attrs[attr]]))\n",
    "    nx.set_node_attributes(G,attr, mapping)\n",
    "    return nx.attribute_assortativity_coefficient(G,attr)"
   ]
  },
  {
   "cell_type": "code",
   "execution_count": 8,
   "metadata": {
    "collapsed": false
   },
   "outputs": [
    {
     "name": "stdout",
     "output_type": "stream",
     "text": [
      "0.0103134590889\n",
      "-0.0652729511948\n",
      "0.145054887671\n",
      "0.163892412814\n",
      "0.091092123568\n",
      "0.0736732579392\n"
     ]
    }
   ],
   "source": [
    "for d in data:\n",
    "    print assortativity(d)"
   ]
  },
  {
   "cell_type": "markdown",
   "metadata": {},
   "source": [
    "Degree assortativity coefficient shows, that nodes tend to be connected with other nodes with similar degree values (closer to 1 -- denser the core of high degree nodes). \n",
    "\n",
    "So we can point out 2 universities with highest values: Harvard and Texas.\n",
    "\n",
    "Negative coefficient shows that Caltech has rather disassortative network."
   ]
  },
  {
   "cell_type": "code",
   "execution_count": 9,
   "metadata": {
    "collapsed": false,
    "scrolled": true
   },
   "outputs": [
    {
     "name": "stdout",
     "output_type": "stream",
     "text": [
      "Berkeley13.mat\n",
      "gender 0.0409228376393\n",
      "major 0.058255029946\n",
      "dormitory 0.14727644076\n",
      "year 0.308121015806\n",
      "high_school 0.0773753653543\n",
      "Caltech36.mat\n",
      "gender 0.0463314364559\n",
      "major 0.0347194237236\n",
      "dormitory 0.349153100873\n",
      "year 0.237531904813\n",
      "high_school 0.00266977930658\n",
      "Harvard1.mat\n",
      "gender 0.0452699773794\n",
      "major 0.0496769283286\n",
      "dormitory 0.12567663505\n",
      "year 0.421159642116\n",
      "high_school 0.0239867253741\n",
      "Texas80.mat\n",
      "gender 0.0796930681412\n",
      "major 0.0597127278334\n",
      "dormitory 0.204837604339\n",
      "year 0.246194684162\n",
      "high_school 0.147992848231\n",
      "Princeton12.mat\n",
      "gender 0.0506107399953\n",
      "major 0.0543901188714\n",
      "dormitory 0.0946784195542\n",
      "year 0.446744620584\n",
      "high_school 0.018783655245\n",
      "Oklahoma97.mat\n",
      "gender 0.0928372959827\n",
      "major 0.0363790887617\n",
      "dormitory 0.280335243729\n",
      "year 0.20116469147\n",
      "high_school 0.139468406924\n"
     ]
    }
   ],
   "source": [
    "i=0\n",
    "for d in data:\n",
    "    print universities[i]\n",
    "    i+=1\n",
    "    for attr in ['gender','major','dormitory','year','high_school']:\n",
    "        print attr, assortativity(d,attr)"
   ]
  },
  {
   "cell_type": "markdown",
   "metadata": {},
   "source": [
    "First thing to note -- small values for gender and major attributes in each university. That is, there are no cores of mostly males and mostly females, neither cores of majors. \n",
    "Secondly, in Texas and Oklahoma high school cores are more emphasized, than in the rest.\n",
    "Finally, in general for all datasets dormitory (Oklahoma, Caltech) and year(Berkeley, Harvard, Texas, Princeton) are most significant attributes. So people of the same year are more connected. "
   ]
  },
  {
   "cell_type": "code",
   "execution_count": null,
   "metadata": {
    "collapsed": true
   },
   "outputs": [],
   "source": []
  }
 ],
 "metadata": {
  "kernelspec": {
   "display_name": "Python 2",
   "language": "python",
   "name": "python2"
  },
  "language_info": {
   "codemirror_mode": {
    "name": "ipython",
    "version": 2
   },
   "file_extension": ".py",
   "mimetype": "text/x-python",
   "name": "python",
   "nbconvert_exporter": "python",
   "pygments_lexer": "ipython2",
   "version": "2.7.11"
  }
 },
 "nbformat": 4,
 "nbformat_minor": 0
}
