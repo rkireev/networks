{
 "cells": [
  {
   "cell_type": "markdown",
   "metadata": {},
   "source": [
    "# <center>Network Science</center>"
   ]
  },
  {
   "cell_type": "markdown",
   "metadata": {},
   "source": [
    "## <center>Home Assignment #1: Power law</center>"
   ]
  },
  {
   "cell_type": "markdown",
   "metadata": {},
   "source": [
    "### <center>Student: Ruslan Kireev</center>"
   ]
  },
  {
   "cell_type": "markdown",
   "metadata": {},
   "source": [
    "#### <hr /> General Information"
   ]
  },
  {
   "cell_type": "markdown",
   "metadata": {},
   "source": [
    "**Due Date:** 08.02.2016 23:59 <br \\>\n",
    "**Late submission policy:** -0.2 points per day <br \\>\n",
    "\n",
    "\n",
    "Please send your reports to <mailto:network.hse.2016@gmail.com> with message subject of the following structure:<br \\> **[HSE Networks 2015] *{LastName}* *{First Name}* HA*{Number}***\n",
    "\n",
    "Support your computations with figures and comments. <br \\>\n",
    "If you are using IPython Notebook you may use this file as a starting point of your report.<br \\>\n",
    "<br \\>\n",
    "<hr \\>"
   ]
  },
  {
   "cell_type": "markdown",
   "metadata": {},
   "source": [
    "## Problems"
   ]
  },
  {
   "cell_type": "markdown",
   "metadata": {},
   "source": [
    "### Task 1."
   ]
  },
  {
   "cell_type": "markdown",
   "metadata": {},
   "source": [
    "Load [wordcounts](http://www.leonidzhukov.net/hse/2015/networks/data/wordcounts.txt) dataset. \n",
    "1. Check that Zipf's Law holds\n",
    "2. Assuming that the data is distributed according to the Power Law, find\n",
    " * $\\alpha$ of the distribution\n",
    " * mean sample variance $\\sigma^2$\n",
    "3. Produce summary of the frequencies: min, max, mean, median"
   ]
  },
  {
   "cell_type": "code",
   "execution_count": 1,
   "metadata": {
    "collapsed": true
   },
   "outputs": [],
   "source": [
    "import numpy as np\n",
    "import matplotlib.pyplot as plt\n",
    "import numpy.random as rnd\n",
    "import urllib\n",
    "%matplotlib inline\n",
    "data = urllib.urlopen('http://www.leonidzhukov.net/hse/2015/networks/data/wordcounts.txt')\n",
    "words = np.loadtxt(data,dtype={'names': ('freq', 'word'),'formats': (np.int,'|S15')})"
   ]
  },
  {
   "cell_type": "markdown",
   "metadata": {},
   "source": [
    "To check if Zipf's law holds let's calculate residual, plot it and see:"
   ]
  },
  {
   "cell_type": "code",
   "execution_count": 2,
   "metadata": {
    "collapsed": false
   },
   "outputs": [],
   "source": [
    "subs = []\n",
    "freq_sum = 1.0*np.sum(words['freq'])\n",
    "for i in xrange(1,words.shape[0]+1):\n",
    "    subs.append(abs(words[i-1][0]/freq_sum-1.0/i))"
   ]
  },
  {
   "cell_type": "code",
   "execution_count": 3,
   "metadata": {
    "collapsed": false,
    "scrolled": true
   },
   "outputs": [
    {
     "data": {
      "text/plain": [
       "(0, 200, 0, 1)"
      ]
     },
     "execution_count": 3,
     "metadata": {},
     "output_type": "execute_result"
    },
    {
     "data": {
      "image/png": "[encoded data removed]",
      "text/plain": [
       "<matplotlib.figure.Figure at 0x2d99d50>"
      ]
     },
     "metadata": {},
     "output_type": "display_data"
    }
   ],
   "source": [
    "plt.plot(subs, 'o')\n",
    "plt.axis((0,200,0,1))"
   ]
  },
  {
   "cell_type": "markdown",
   "metadata": {},
   "source": [
    "As it could be seen just looking on the head of the data, it doesn't precisely holds in the beginning. \n",
    "So the plot demonstrates with growth of the rank the error of the law decreasing. Generally, the law works.\n",
    "\n",
    "Assuming power law distribution, in log-log it would be a line, so we can compute $\\alpha$ using linear regression ($\\alpha$ is a slope of the regression line):"
   ]
  },
  {
   "cell_type": "code",
   "execution_count": 4,
   "metadata": {
    "collapsed": false
   },
   "outputs": [
    {
     "name": "stdout",
     "output_type": "stream",
     "text": [
      "alpha: -1.18426529343\n"
     ]
    },
    {
     "data": {
      "image/png": "[encoded data removed]",
      "text/plain": [
       "<matplotlib.figure.Figure at 0x4c34bb0>"
      ]
     },
     "metadata": {},
     "output_type": "display_data"
    }
   ],
   "source": [
    "x = np.log(np.arange(1,words.shape[0]+1))\n",
    "y = np.log(words['freq'])\n",
    "A = np.vstack([x, np.ones(len(x))]).T\n",
    "alpha, c = np.linalg.lstsq(A, y)[0]\n",
    "\n",
    "plt.loglog(words['freq'])\n",
    "plt.loglog(np.exp(x), np.exp(alpha*x+c))\n",
    "print 'alpha:', alpha"
   ]
  },
  {
   "cell_type": "markdown",
   "metadata": {},
   "source": [
    "As we know from lectures if $\\alpha<3$ (in our case it is: $1.184<3$) then the variance depends on the sample size. \n",
    "Besides, our $\\alpha$ estimation is far from perfect.\n",
    "To check that -- compute empirical variance and variance assuming power law and make sure they differ"
   ]
  },
  {
   "cell_type": "code",
   "execution_count": 5,
   "metadata": {
    "collapsed": false
   },
   "outputs": [
    {
     "name": "stdout",
     "output_type": "stream",
     "text": [
      "Empirical variance: 15360778764.5\n",
      "Power Law variance: 18403694534.0\n"
     ]
    }
   ],
   "source": [
    "print 'Empirical variance:', (np.std(words['freq']))**2\n",
    "mean = ((-alpha-1)/(alpha-2))*(800-(800**(-alpha-1))/(6187267**(-alpha-2)))\n",
    "print 'Power Law variance:', np.mean((words['freq']-mean)**2)"
   ]
  },
  {
   "cell_type": "markdown",
   "metadata": {},
   "source": [
    "Summary of the frequencies"
   ]
  },
  {
   "cell_type": "code",
   "execution_count": 6,
   "metadata": {
    "collapsed": false
   },
   "outputs": [
    {
     "name": "stdout",
     "output_type": "stream",
     "text": [
      "min: 800\n",
      "max: 6187267\n",
      "mean: 13566.6707819\n",
      "median: 2335.0\n"
     ]
    }
   ],
   "source": [
    "print 'min:', np.min(words['freq'])\n",
    "print 'max:', np.max(words['freq'])\n",
    "print 'mean:', np.mean(words['freq'])\n",
    "print 'median:', np.median(words['freq'])"
   ]
  },
  {
   "cell_type": "markdown",
   "metadata": {},
   "source": [
    "### <hr /> Task 2."
   ]
  },
  {
   "cell_type": "markdown",
   "metadata": {},
   "source": [
    "Find and plot PDF and CDF for the following networks:\n",
    "* [Routing network](http://www.leonidzhukov.net/hse/2015/networks/data/network.txt)\n",
    "* [Web graph](http://www.leonidzhukov.net/hse/2015/networks/data/web_Stanford.txt)\n",
    "* [Facebook network](http://www.leonidzhukov.net/hse/2015/networks/data/fb_Princeton.txt)\n",
    "\n",
    "\n",
    "1. Are they correspondent to power law?\n",
    "2. Find max and mean values of incoming and outcoming node degrees\n",
    "3. Find $\\alpha$ via Maximum Likelihood and calculate $\\sigma^2$\n",
    "4. Determine $x_{min}$ via Kolmogorov-Smirnov test"
   ]
  },
  {
   "cell_type": "markdown",
   "metadata": {},
   "source": [
    "Firstly, load the data"
   ]
  },
  {
   "cell_type": "code",
   "execution_count": 7,
   "metadata": {
    "collapsed": false
   },
   "outputs": [],
   "source": [
    "data = urllib.urlopen('http://www.leonidzhukov.net/hse/2015/networks/data/network.txt')\n",
    "network = np.loadtxt(data,dtype={'names': ('from', 'to'),'formats': (np.int,np.int)})\n",
    "data = urllib.urlopen('http://www.leonidzhukov.net/hse/2015/networks/data/web_Stanford.txt')\n",
    "stanford = np.loadtxt(data,dtype={'names': ('from', 'to'),'formats': (np.long,np.long)})\n",
    "data = urllib.urlopen('http://www.leonidzhukov.net/hse/2015/networks/data/fb_Princeton.txt')\n",
    "princeton = np.loadtxt(data,dtype={'names': ('from', 'to'),'formats': (np.int,np.int)})"
   ]
  },
  {
   "cell_type": "markdown",
   "metadata": {},
   "source": [
    "Compute charachteristics such mean, max. Secondly, find degree distribution and find PRF and CDF.\n",
    "Well known, that power law in log-log scale would be line-alike. So computing that we can define how far the data from power law distribution"
   ]
  },
  {
   "cell_type": "code",
   "execution_count": 8,
   "metadata": {
    "collapsed": false,
    "scrolled": true
   },
   "outputs": [
    {
     "name": "stdout",
     "output_type": "stream",
     "text": [
      "Out max: 2389\n",
      "Out mean: 12.4004096262\n",
      "In max: 40\n",
      "In mean: 2.10967376628\n"
     ]
    },
    {
     "data": {
      "text/plain": [
       "<matplotlib.text.Text at 0x5663e50>"
      ]
     },
     "execution_count": 8,
     "metadata": {},
     "output_type": "execute_result"
    },
    {
     "data": {
      "image/png": "[encoded data removed]",
      "text/plain": [
       "<matplotlib.figure.Figure at 0x56ddd70>"
      ]
     },
     "metadata": {},
     "output_type": "display_data"
    }
   ],
   "source": [
    "#Search for in-degree and out-degree\n",
    "y = np.bincount(network['from'])\n",
    "ii = np.nonzero(y)[0]\n",
    "print 'Out max:', np.max(y[ii])\n",
    "print 'Out mean:', np.mean(y[ii])\n",
    "y = np.bincount(network['to'])\n",
    "ii = np.nonzero(y)[0]\n",
    "print 'In max:', np.max(y[ii])\n",
    "print 'In mean:', np.mean(y[ii])\n",
    "\n",
    "#Group by ids\n",
    "y = np.bincount(np.hstack((network['from'],network['to'])))\n",
    "ii = np.nonzero(y)[0]\n",
    "#Group by degrees\n",
    "ny = np.bincount(y[ii])\n",
    "network_degree = np.nonzero(ny)[0]\n",
    "network_num_of_nodes = ny[network_degree]\n",
    "\n",
    "network_pdf = 1.0*network_num_of_nodes/np.sum(network_num_of_nodes)\n",
    "network_cdf = np.zeros(network_pdf.shape[0])\n",
    "curr_sum = 0\n",
    "for i in range(network_pdf.shape[0]):\n",
    "    network_cdf[i] = curr_sum\n",
    "    curr_sum += network_pdf[i]\n",
    "    \n",
    "plt.loglog(network_degree,network_pdf, 'o', label='PDF')\n",
    "plt.loglog(network_degree,network_cdf, 'o', label='CDF')\n",
    "plt.ylabel('Probability')\n",
    "plt.xlabel('Nodes degree')\n",
    "plt.legend(loc='upper right', shadow=True)\n",
    "plt.title('Network')"
   ]
  },
  {
   "cell_type": "markdown",
   "metadata": {},
   "source": [
    "As we can see power law is good enough describes the network data.\n",
    "Perform similar actions for the other two:"
   ]
  },
  {
   "cell_type": "code",
   "execution_count": 9,
   "metadata": {
    "collapsed": false
   },
   "outputs": [
    {
     "name": "stdout",
     "output_type": "stream",
     "text": [
      "Out max: 247.0\n",
      "Out mean: 12.9415501228\n",
      "In max:"
     ]
    },
    {
     "name": "stderr",
     "output_type": "stream",
     "text": [
      "C:\\Python27\\lib\\site-packages\\ipykernel\\__main__.py:23: DeprecationWarning: using a non-integer number instead of an integer will result in an error in the future\n",
      "C:\\Python27\\lib\\site-packages\\ipykernel\\__main__.py:25: DeprecationWarning: using a non-integer number instead of an integer will result in an error in the future\n"
     ]
    },
    {
     "name": "stdout",
     "output_type": "stream",
     "text": [
      " 3444.0\n",
      "In mean: 3.64384694\n",
      "[     0.  75558.  15128. ...,      0.      0.      0.]\n"
     ]
    },
    {
     "data": {
      "text/plain": [
       "<matplotlib.text.Text at 0x4b48d30>"
      ]
     },
     "execution_count": 9,
     "metadata": {},
     "output_type": "execute_result"
    },
    {
     "data": {
      "image/png": "[encoded data removed]",
      "text/plain": [
       "<matplotlib.figure.Figure at 0x4c492f0>"
      ]
     },
     "metadata": {},
     "output_type": "display_data"
    }
   ],
   "source": [
    "y = np.zeros(281904)\n",
    "for a in stanford['from']:\n",
    "    y[a]+=1\n",
    "ii = np.nonzero(y)[0]\n",
    "print 'Out max:', np.max(y[ii])\n",
    "print 'Out mean:', np.mean(y[ii])\n",
    "y = np.zeros(281904)\n",
    "for a in stanford['to']:\n",
    "    y[a]+=1\n",
    "ii = np.nonzero(y)[0]\n",
    "print 'In max:', np.max(y[ii])\n",
    "print 'In mean:', np.mean(y[ii])\n",
    "\n",
    "y = np.zeros(281904)\n",
    "for a in stanford['to']:\n",
    "    y[a]+=1\n",
    "for a in stanford['from']:\n",
    "    y[a]+=1\n",
    "ii = np.nonzero(y)[0]\n",
    "y=y[ii]\n",
    "ny = np.zeros(28000)\n",
    "for a in y:\n",
    "    ny[a]+=1\n",
    "for a in y:\n",
    "    ny[a]+=1\n",
    "print ny\n",
    "stanford_degree = np.nonzero(ny)[0]\n",
    "stanford_num_of_nodes = ny[stanford_degree]\n",
    "stanford_pdf = 1.0*stanford_num_of_nodes/np.sum(stanford_num_of_nodes)\n",
    "stanford_cdf = np.zeros(stanford_pdf.shape[0])\n",
    "curr_sum = 0\n",
    "for i in range(stanford_pdf.shape[0]):\n",
    "    stanford_cdf[i] = curr_sum\n",
    "    curr_sum += stanford_pdf[i]\n",
    "    \n",
    "plt.loglog(stanford_degree,stanford_pdf, 'o', label='PDF')\n",
    "plt.loglog(stanford_degree,stanford_cdf, 'o', label='CDF')\n",
    "plt.ylabel('Probability')\n",
    "plt.xlabel('Nodes degree')\n",
    "plt.legend(loc='upper right', shadow=True)\n",
    "plt.title('Stanford')"
   ]
  },
  {
   "cell_type": "markdown",
   "metadata": {},
   "source": [
    "Again -- power law likely holds"
   ]
  },
  {
   "cell_type": "code",
   "execution_count": 10,
   "metadata": {
    "collapsed": false
   },
   "outputs": [
    {
     "name": "stdout",
     "output_type": "stream",
     "text": [
      "Out max: 543\n",
      "Out mean: 75.0437908497\n",
      "In max: 398\n",
      "In mean: 37.5833060556\n"
     ]
    },
    {
     "data": {
      "text/plain": [
       "<matplotlib.text.Text at 0x5ed4070>"
      ]
     },
     "execution_count": 10,
     "metadata": {},
     "output_type": "execute_result"
    },
    {
     "data": {
      "image/png": "[encoded data removed]",
      "text/plain": [
       "<matplotlib.figure.Figure at 0x59c3410>"
      ]
     },
     "metadata": {},
     "output_type": "display_data"
    }
   ],
   "source": [
    "y = np.bincount(princeton['from'])\n",
    "ii = np.nonzero(y)[0]\n",
    "print 'Out max:', np.max(y[ii])\n",
    "print 'Out mean:', np.mean(y[ii])\n",
    "y = np.bincount(princeton['to'])\n",
    "ii = np.nonzero(y)[0]\n",
    "print 'In max:', np.max(y[ii])\n",
    "print 'In mean:', np.mean(y[ii])\n",
    "\n",
    "y = np.bincount(np.hstack((princeton['from'],princeton['to'])))\n",
    "ii = np.nonzero(y)[0]\n",
    "ny = np.bincount(y[ii])\n",
    "princeton_degree = np.nonzero(ny)[0]\n",
    "princeton_num_of_nodes = ny[princeton_degree]\n",
    "princeton_pdf = 1.0*princeton_num_of_nodes/np.sum(princeton_num_of_nodes)\n",
    "princeton_cdf = np.zeros(princeton_pdf.shape[0])\n",
    "curr_sum = 0\n",
    "for i in range(princeton_pdf.shape[0]):\n",
    "    princeton_cdf[i] = curr_sum\n",
    "    curr_sum += princeton_pdf[i]\n",
    "\n",
    "plt.loglog(princeton_degree,princeton_pdf, 'o', label='PDF')\n",
    "plt.loglog(princeton_degree,princeton_cdf, 'o', label='CDF')\n",
    "plt.ylabel('Probability')\n",
    "plt.xlabel('Nodes degree')\n",
    "plt.legend(loc='upper right', shadow=True)\n",
    "plt.title('Princeton')"
   ]
  },
  {
   "cell_type": "markdown",
   "metadata": {},
   "source": [
    "Here we can see rather a curve, then a line. So it's debatable to be a power law. Further we make sure there is no good estimation."
   ]
  },
  {
   "cell_type": "markdown",
   "metadata": {},
   "source": [
    "Using ML method and KS test let's try to find good estimation of the data. Find $\\alpha$, $x_{min}$ and $\\sigma^2$"
   ]
  },
  {
   "cell_type": "code",
   "execution_count": 11,
   "metadata": {
    "collapsed": false
   },
   "outputs": [
    {
     "name": "stdout",
     "output_type": "stream",
     "text": [
      "Distance: 0.150739077246\n",
      "x_min: 125.0\n",
      "alpha: 2.08149740487\n",
      "Sigma2: 0.0188651070443\n"
     ]
    },
    {
     "data": {
      "text/plain": [
       "<matplotlib.text.Text at 0x5bbcaf0>"
      ]
     },
     "execution_count": 11,
     "metadata": {},
     "output_type": "execute_result"
    },
    {
     "data": {
      "image/png": "[encoded data removed]",
      "text/plain": [
       "<matplotlib.figure.Figure at 0x5ec3970>"
      ]
     },
     "metadata": {},
     "output_type": "display_data"
    }
   ],
   "source": [
    "glob_min = np.inf\n",
    "min_max = np.inf\n",
    "best_alpha = 0\n",
    "sigm2 = 0\n",
    "#searching for best x_min due to KS test\n",
    "for x_min in network_degree:\n",
    "    x_min = 1.0*x_min\n",
    "    sample = network_degree[network_degree>=x_min]\n",
    "    alpha = 1+sample.shape[0]*(np.sum(np.log(sample/x_min)))**(-1)\n",
    "    #possible estimation via Maximum Likelihood method\n",
    "    network_cdf_est = (network_degree/x_min)**(-alpha+1)/network_degree.shape[0]\n",
    "    if np.max(abs(network_cdf + network_cdf_est - 1))<min_max: #KS test\n",
    "        min_max = np.max(abs(network_cdf + network_cdf_est - 1))\n",
    "        best_alpha = alpha\n",
    "        glob_min = x_min\n",
    "        sigm2 = ((alpha-1)**2)/sample.shape[0]\n",
    "\n",
    "#Results and plots\n",
    "print 'Distance:', min_max\n",
    "print 'x_min:', glob_min\n",
    "print 'alpha:', best_alpha\n",
    "print 'Sigma2:', sigm2\n",
    "network_cdf_est = (network_degree/glob_min)**(-best_alpha+1)/network_degree.shape[0]\n",
    "plt.plot(1-network_cdf_est,  label='theoretical')\n",
    "plt.step(network_degree, network_cdf,  label='empirical')\n",
    "plt.axis((0,100,0,1))\n",
    "plt.ylabel('CDF')\n",
    "plt.xlabel('Nodes degree')\n",
    "plt.legend(loc='upper right', shadow=True)\n",
    "plt.title('Network')"
   ]
  },
  {
   "cell_type": "code",
   "execution_count": 12,
   "metadata": {
    "collapsed": false
   },
   "outputs": [
    {
     "name": "stdout",
     "output_type": "stream",
     "text": [
      "Distance: 0.0996602097333\n",
      "x_min: 100.0\n",
      "alpha: 2.20987243262\n",
      "Sigma2: 0.0100259678302\n"
     ]
    },
    {
     "data": {
      "text/plain": [
       "<matplotlib.text.Text at 0x5aa2ab0>"
      ]
     },
     "execution_count": 12,
     "metadata": {},
     "output_type": "execute_result"
    },
    {
     "data": {
      "image/png": "[encoded data removed]",
      "text/plain": [
       "<matplotlib.figure.Figure at 0x5bbc150>"
      ]
     },
     "metadata": {},
     "output_type": "display_data"
    }
   ],
   "source": [
    "glob_min = np.inf\n",
    "min_max = np.inf\n",
    "best_alpha = 0\n",
    "sigm2 = 0\n",
    "for x_min in stanford_degree:\n",
    "    x_min = 1.0*x_min\n",
    "    sample = stanford_degree[stanford_degree>=x_min]\n",
    "    alpha = 1+sample.shape[0]*(np.sum(np.log(sample/x_min)))**(-1)\n",
    "    stanford_cdf_est = (stanford_degree/x_min)**(-alpha+1)/stanford_degree.shape[0]\n",
    "    if np.max(abs(stanford_cdf + stanford_cdf_est - 1))<min_max:\n",
    "        min_max = np.max(abs(stanford_cdf + stanford_cdf_est - 1))\n",
    "        best_alpha = alpha\n",
    "        glob_min = x_min\n",
    "        sigm2 = ((alpha-1)**2)/sample.shape[0]\n",
    "\n",
    "print 'Distance:', min_max\n",
    "print 'x_min:', glob_min\n",
    "print 'alpha:', best_alpha\n",
    "print 'Sigma2:', sigm2\n",
    "stanford_cdf_est = (stanford_degree/glob_min)**(-best_alpha+1)/stanford_degree.shape[0]\n",
    "plt.plot(1-stanford_cdf_est,  label='theoretical')\n",
    "plt.step(stanford_degree, stanford_cdf,  label='empirical')\n",
    "plt.axis((0,100,0,1))\n",
    "plt.ylabel('CDF')\n",
    "plt.xlabel('Nodes degree')\n",
    "plt.legend(loc='upper right', shadow=True)\n",
    "plt.title('Stanford')"
   ]
  },
  {
   "cell_type": "code",
   "execution_count": 13,
   "metadata": {
    "collapsed": false
   },
   "outputs": [
    {
     "name": "stdout",
     "output_type": "stream",
     "text": [
      "Distance: 0.690280220196\n",
      "x_min: 112.0\n",
      "alpha: 2.35583274364\n",
      "Sigma2: 0.00723733239658\n"
     ]
    },
    {
     "data": {
      "text/plain": [
       "<matplotlib.text.Text at 0x6e32410>"
      ]
     },
     "execution_count": 13,
     "metadata": {},
     "output_type": "execute_result"
    },
    {
     "data": {
      "image/png": "[encoded data removed]",
      "text/plain": [
       "<matplotlib.figure.Figure at 0x5abb310>"
      ]
     },
     "metadata": {},
     "output_type": "display_data"
    }
   ],
   "source": [
    "glob_min = np.inf\n",
    "min_max = np.inf\n",
    "best_alpha = 0\n",
    "sigm2 = 0\n",
    "for x_min in princeton_degree:\n",
    "    x_min = 1.0*x_min\n",
    "    sample = princeton_degree[princeton_degree>=x_min]\n",
    "    alpha = 1+sample.shape[0]*(np.sum(np.log(sample/x_min)))**(-1)\n",
    "    princeton_cdf_est = (princeton_degree/x_min)**(-alpha+1)/princeton_degree.shape[0]\n",
    "    if np.max(abs(princeton_cdf + princeton_cdf_est - 1))<min_max:\n",
    "        min_max = np.max(abs(princeton_cdf + princeton_cdf_est - 1))\n",
    "        best_alpha = alpha\n",
    "        glob_min = x_min\n",
    "        sigm2 = ((alpha-1)**2)/sample.shape[0]\n",
    "\n",
    "print 'Distance:', min_max\n",
    "print 'x_min:', glob_min\n",
    "print 'alpha:', best_alpha\n",
    "print 'Sigma2:', sigm2\n",
    "princeton_cdf_est = (princeton_degree/glob_min)**(-best_alpha+1)/princeton_degree.shape[0]\n",
    "plt.plot(1-princeton_cdf_est,  label='theoretical')\n",
    "plt.step(princeton_degree, princeton_cdf,  label='empirical')\n",
    "plt.axis((0,400,0,1))\n",
    "plt.ylabel('CDF')\n",
    "plt.xlabel('Nodes degree')\n",
    "plt.legend(loc='upper right', shadow=True)\n",
    "plt.title('Princeton')"
   ]
  },
  {
   "cell_type": "markdown",
   "metadata": {},
   "source": [
    "For network and stanford data we found estimators with quite low errors and satisfiable pictures. Although for princeton data (as we assume to be quite non-power law) the error even smaller, but the picture illustrates bad estimation on the left side, probably it can be explained with high density of dots around the mean value."
   ]
  },
  {
   "cell_type": "code",
   "execution_count": null,
   "metadata": {
    "collapsed": true
   },
   "outputs": [],
   "source": []
  }
 ],
 "metadata": {
  "kernelspec": {
   "display_name": "Python 2",
   "language": "python",
   "name": "python2"
  },
  "language_info": {
   "codemirror_mode": {
    "name": "ipython",
    "version": 2
   },
   "file_extension": ".py",
   "mimetype": "text/x-python",
   "name": "python",
   "nbconvert_exporter": "python",
   "pygments_lexer": "ipython2",
   "version": "2.7"
  }
 },
 "nbformat": 4,
 "nbformat_minor": 0
}
